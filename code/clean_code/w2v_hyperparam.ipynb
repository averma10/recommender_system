{
 "cells": [
  {
   "cell_type": "code",
   "execution_count": 29,
   "metadata": {},
   "outputs": [],
   "source": [
    "import pandas as pd\n",
    "import importlib"
   ]
  },
  {
   "cell_type": "markdown",
   "metadata": {},
   "source": [
    "### Create job with colfax for W2V hyper-parameterization or hyper-tuning"
   ]
  },
  {
   "cell_type": "code",
   "execution_count": 1,
   "metadata": {},
   "outputs": [],
   "source": [
    "import cfxmagic"
   ]
  },
  {
   "cell_type": "code",
   "execution_count": 5,
   "metadata": {},
   "outputs": [
    {
     "name": "stdout",
     "output_type": "stream",
     "text": [
      "Overwriting w2v_best_params.py\n"
     ]
    }
   ],
   "source": [
    "%%writefile w2v_best_params.py\n",
    "import Word2Vec as w2v\n",
    "import os\n",
    "import pandas as pd\n",
    "\n",
    "data = w2v.ready_data('all')\n",
    "\n",
    "questions = 'questions-words.txt'\n",
    "file = os.path.join('data',questions)\n",
    "evals = open(file,'r').readlines()\n",
    "num_sections = len([l for l in evals if l.startswith(':')])\n",
    "print('Total Evaluation sentences from questions-words.txt: {}'.format(len(evals) - num_sections))\n",
    "\n",
    "#define parameter grid for Word2Vec\n",
    "param_grid = {'size': [100,200,300,400],\n",
    "            'alpha' : [0.05,0.025],\n",
    "            'window' : [4,10],\n",
    "            'workers' : [12],\n",
    "            'min_count':[10],\n",
    "            'sg': [0,1],\n",
    "            'hs': [1], \n",
    "            'negative': [5,10]\n",
    "}\n",
    "\n",
    "#run the exhaustive grid_search on param_grid\n",
    "results = w2v.run_w2v_hypertuning(data,param_grid)\n",
    "\n",
    "pd.DataFrame(results)"
   ]
  },
  {
   "cell_type": "code",
   "execution_count": 6,
   "metadata": {},
   "outputs": [
    {
     "name": "stdout",
     "output_type": "stream",
     "text": [
      "185777.c009\n",
      "\n"
     ]
    }
   ],
   "source": [
    "%%qsub -N w2v_best_params -l walltime=24:00:00 -l nodes=2:ppn=2\n",
    "cd $PBS_O_WORKDIR\n",
    "python w2v_best_params.py"
   ]
  },
  {
   "cell_type": "code",
   "execution_count": 1,
   "metadata": {
    "scrolled": false
   },
   "outputs": [
    {
     "name": "stdout",
     "output_type": "stream",
     "text": [
      "Job ID                    Name             User            Time Use S Queue\r\n",
      "------------------------- ---------------- --------------- -------- - -----\r\n",
      "186691.c009                ...ub-singleuser u18634          00:00:01 R jupyterhub     \r\n"
     ]
    }
   ],
   "source": [
    "!qstat"
   ]
  },
  {
   "cell_type": "code",
   "execution_count": 3,
   "metadata": {},
   "outputs": [
    {
     "name": "stdout",
     "output_type": "stream",
     "text": [
      "w2v_best_params.e179485  w2v_best_params.o179485  w2v_best_params.py\r\n",
      "w2v_best_params.e181279  w2v_best_params.o181279\r\n",
      "w2v_best_params.e184059  w2v_best_params.o184059\r\n"
     ]
    }
   ],
   "source": [
    "%ls w2v_best_params*"
   ]
  },
  {
   "cell_type": "code",
   "execution_count": 5,
   "metadata": {},
   "outputs": [
    {
     "name": "stdout",
     "output_type": "stream",
     "text": [
      "\r\n",
      "########################################################################\r\n",
      "#      Date:           Tue Oct  9 23:52:51 PDT 2018\r\n",
      "#    Job ID:           184059.c009\r\n",
      "#      User:           u18634\r\n",
      "# Resources:           neednodes=2:ppn=2,nodes=2:ppn=2,vmem=92gb,walltime=24:00:00\r\n",
      "########################################################################\r\n",
      "\r\n",
      "Total Evaluation sentences from questions-words.txt: 19544\r\n",
      "\r\n",
      "########################################################################\r\n",
      "# End of output for job 184059.c009\r\n",
      "# Date: Wed Oct 10 13:55:04 PDT 2018\r\n",
      "########################################################################\r\n",
      "\r\n"
     ]
    }
   ],
   "source": [
    "%cat w2v_best_params.o184059*"
   ]
  },
  {
   "cell_type": "code",
   "execution_count": 6,
   "metadata": {
    "scrolled": true
   },
   "outputs": [
    {
     "name": "stdout",
     "output_type": "stream",
     "text": [
      "/home/u18634/.local/lib/python3.6/site-packages/gensim/matutils.py:737: FutureWarning: Conversion of the second argument of issubdtype from `int` to `np.signedinteger` is deprecated. In future, it will be treated as `np.int64 == np.dtype(int).type`.\r\n",
      "  if np.issubdtype(vec.dtype, np.int):\r\n"
     ]
    }
   ],
   "source": [
    "%cat w2v_best_params.e184059*"
   ]
  },
  {
   "cell_type": "code",
   "execution_count": 3,
   "metadata": {
    "scrolled": false
   },
   "outputs": [
    {
     "name": "stdout",
     "output_type": "stream",
     "text": [
      "\r\n",
      "########################################################################\r\n",
      "#      Date:           Sun Oct 14 23:42:27 PDT 2018\r\n",
      "#    Job ID:           185777.c009\r\n",
      "#      User:           u18634\r\n",
      "# Resources:           neednodes=2:ppn=2,nodes=2:ppn=2,vmem=92gb,walltime=24:00:00\r\n",
      "########################################################################\r\n",
      "\r\n",
      "\r\n",
      "########################################################################\r\n",
      "# End of output for job 185777.c009\r\n",
      "# Date: Mon Oct 15 23:43:06 PDT 2018\r\n",
      "########################################################################\r\n",
      "\r\n"
     ]
    }
   ],
   "source": [
    "%cat w2v_best_params.o185777*"
   ]
  },
  {
   "cell_type": "code",
   "execution_count": 2,
   "metadata": {
    "scrolled": true
   },
   "outputs": [
    {
     "name": "stdout",
     "output_type": "stream",
     "text": [
      "=>> PBS: job killed: walltime 86439 exceeded limit 86400\r\n"
     ]
    }
   ],
   "source": [
    "%cat w2v_best_params.e185777*"
   ]
  },
  {
   "cell_type": "code",
   "execution_count": 9,
   "metadata": {},
   "outputs": [
    {
     "data": {
      "text/html": [
       "<div>\n",
       "<style scoped>\n",
       "    .dataframe tbody tr th:only-of-type {\n",
       "        vertical-align: middle;\n",
       "    }\n",
       "\n",
       "    .dataframe tbody tr th {\n",
       "        vertical-align: top;\n",
       "    }\n",
       "\n",
       "    .dataframe thead th {\n",
       "        text-align: right;\n",
       "    }\n",
       "</style>\n",
       "<table border=\"1\" class=\"dataframe\">\n",
       "  <thead>\n",
       "    <tr style=\"text-align: right;\">\n",
       "      <th></th>\n",
       "      <th>alpha</th>\n",
       "      <th>correct_per</th>\n",
       "      <th>hs</th>\n",
       "      <th>incorrect_per</th>\n",
       "      <th>min_count</th>\n",
       "      <th>negative</th>\n",
       "      <th>sg</th>\n",
       "      <th>size</th>\n",
       "      <th>window</th>\n",
       "      <th>workers</th>\n",
       "    </tr>\n",
       "  </thead>\n",
       "  <tbody>\n",
       "    <tr>\n",
       "      <th>36</th>\n",
       "      <td>0.025</td>\n",
       "      <td>37.827487</td>\n",
       "      <td>0</td>\n",
       "      <td>62.172513</td>\n",
       "      <td>10</td>\n",
       "      <td>5</td>\n",
       "      <td>0</td>\n",
       "      <td>200</td>\n",
       "      <td>2</td>\n",
       "      <td>12</td>\n",
       "    </tr>\n",
       "    <tr>\n",
       "      <th>60</th>\n",
       "      <td>0.025</td>\n",
       "      <td>37.801375</td>\n",
       "      <td>0</td>\n",
       "      <td>62.198625</td>\n",
       "      <td>10</td>\n",
       "      <td>5</td>\n",
       "      <td>0</td>\n",
       "      <td>300</td>\n",
       "      <td>2</td>\n",
       "      <td>12</td>\n",
       "    </tr>\n",
       "    <tr>\n",
       "      <th>61</th>\n",
       "      <td>0.025</td>\n",
       "      <td>37.723039</td>\n",
       "      <td>0</td>\n",
       "      <td>62.276961</td>\n",
       "      <td>10</td>\n",
       "      <td>10</td>\n",
       "      <td>0</td>\n",
       "      <td>300</td>\n",
       "      <td>2</td>\n",
       "      <td>12</td>\n",
       "    </tr>\n",
       "    <tr>\n",
       "      <th>37</th>\n",
       "      <td>0.025</td>\n",
       "      <td>37.470624</td>\n",
       "      <td>0</td>\n",
       "      <td>62.529376</td>\n",
       "      <td>10</td>\n",
       "      <td>10</td>\n",
       "      <td>0</td>\n",
       "      <td>200</td>\n",
       "      <td>2</td>\n",
       "      <td>12</td>\n",
       "    </tr>\n",
       "    <tr>\n",
       "      <th>66</th>\n",
       "      <td>0.025</td>\n",
       "      <td>37.357472</td>\n",
       "      <td>0</td>\n",
       "      <td>62.642528</td>\n",
       "      <td>10</td>\n",
       "      <td>5</td>\n",
       "      <td>0</td>\n",
       "      <td>300</td>\n",
       "      <td>4</td>\n",
       "      <td>12</td>\n",
       "    </tr>\n",
       "    <tr>\n",
       "      <th>85</th>\n",
       "      <td>0.025</td>\n",
       "      <td>37.279137</td>\n",
       "      <td>0</td>\n",
       "      <td>62.720863</td>\n",
       "      <td>10</td>\n",
       "      <td>10</td>\n",
       "      <td>0</td>\n",
       "      <td>400</td>\n",
       "      <td>2</td>\n",
       "      <td>12</td>\n",
       "    </tr>\n",
       "    <tr>\n",
       "      <th>62</th>\n",
       "      <td>0.025</td>\n",
       "      <td>37.096353</td>\n",
       "      <td>0</td>\n",
       "      <td>62.903647</td>\n",
       "      <td>10</td>\n",
       "      <td>20</td>\n",
       "      <td>0</td>\n",
       "      <td>300</td>\n",
       "      <td>2</td>\n",
       "      <td>12</td>\n",
       "    </tr>\n",
       "    <tr>\n",
       "      <th>84</th>\n",
       "      <td>0.025</td>\n",
       "      <td>37.035425</td>\n",
       "      <td>0</td>\n",
       "      <td>62.964575</td>\n",
       "      <td>10</td>\n",
       "      <td>5</td>\n",
       "      <td>0</td>\n",
       "      <td>400</td>\n",
       "      <td>2</td>\n",
       "      <td>12</td>\n",
       "    </tr>\n",
       "    <tr>\n",
       "      <th>38</th>\n",
       "      <td>0.025</td>\n",
       "      <td>37.018017</td>\n",
       "      <td>0</td>\n",
       "      <td>62.981983</td>\n",
       "      <td>10</td>\n",
       "      <td>20</td>\n",
       "      <td>0</td>\n",
       "      <td>200</td>\n",
       "      <td>2</td>\n",
       "      <td>12</td>\n",
       "    </tr>\n",
       "    <tr>\n",
       "      <th>43</th>\n",
       "      <td>0.025</td>\n",
       "      <td>36.965793</td>\n",
       "      <td>0</td>\n",
       "      <td>63.034207</td>\n",
       "      <td>10</td>\n",
       "      <td>10</td>\n",
       "      <td>0</td>\n",
       "      <td>200</td>\n",
       "      <td>4</td>\n",
       "      <td>12</td>\n",
       "    </tr>\n",
       "  </tbody>\n",
       "</table>\n",
       "</div>"
      ],
      "text/plain": [
       "    alpha  correct_per  hs  incorrect_per  min_count  negative  sg  size  \\\n",
       "36  0.025    37.827487   0      62.172513         10         5   0   200   \n",
       "60  0.025    37.801375   0      62.198625         10         5   0   300   \n",
       "61  0.025    37.723039   0      62.276961         10        10   0   300   \n",
       "37  0.025    37.470624   0      62.529376         10        10   0   200   \n",
       "66  0.025    37.357472   0      62.642528         10         5   0   300   \n",
       "85  0.025    37.279137   0      62.720863         10        10   0   400   \n",
       "62  0.025    37.096353   0      62.903647         10        20   0   300   \n",
       "84  0.025    37.035425   0      62.964575         10         5   0   400   \n",
       "38  0.025    37.018017   0      62.981983         10        20   0   200   \n",
       "43  0.025    36.965793   0      63.034207         10        10   0   200   \n",
       "\n",
       "    window  workers  \n",
       "36       2       12  \n",
       "60       2       12  \n",
       "61       2       12  \n",
       "37       2       12  \n",
       "66       4       12  \n",
       "85       2       12  \n",
       "62       2       12  \n",
       "84       2       12  \n",
       "38       2       12  \n",
       "43       4       12  "
      ]
     },
     "execution_count": 9,
     "metadata": {},
     "output_type": "execute_result"
    }
   ],
   "source": [
    "#read the results from stored pickles\n",
    "import os\n",
    "import pandas as pd\n",
    "\n",
    "grid_result = pd.read_pickle(os.path.join('data','w2v_grid_search_results.pkl'))\n",
    "grid_result.sort_values('correct_per',ascending=False).head(10)"
   ]
  }
 ],
 "metadata": {
  "kernelspec": {
   "display_name": "Python 3 (Intel, 2018 update 2)",
   "language": "python",
   "name": "c009-intel_distribution_of_python_3_2018u2"
  },
  "language_info": {
   "codemirror_mode": {
    "name": "ipython",
    "version": 3
   },
   "file_extension": ".py",
   "mimetype": "text/x-python",
   "name": "python",
   "nbconvert_exporter": "python",
   "pygments_lexer": "ipython3",
   "version": "3.6.3"
  }
 },
 "nbformat": 4,
 "nbformat_minor": 2
}
