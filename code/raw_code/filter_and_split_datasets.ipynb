{
 "cells": [
  {
   "cell_type": "markdown",
   "metadata": {},
   "source": [
    "## Load, Filter, Split and Save datasets.\n",
    "    This file loads the datasets from the specified path, splits the dataset manually to create 5 folds of a dataset and saves these 5 folds on the specified path on disk.\n",
    "    In addition to creating folds, this notebook also filters the data based on users and items such that each user have rated atleast 5 items and each item have ratings from atleast 5 users."
   ]
  },
  {
   "cell_type": "code",
   "execution_count": 1,
   "metadata": {
    "collapsed": true
   },
   "outputs": [],
   "source": [
    "import pandas as pd\n",
    "import numpy as np\n",
    "import os,sys"
   ]
  },
  {
   "cell_type": "markdown",
   "metadata": {},
   "source": [
    "#### Load user reviews data for movies, games, tv and music and create a user-item matrix"
   ]
  },
  {
   "cell_type": "code",
   "execution_count": 3,
   "metadata": {},
   "outputs": [],
   "source": [
    "data = pd.read_csv('data//user_reviews_by_movies.csv',delimiter='|',engine='python')"
   ]
  },
  {
   "cell_type": "code",
   "execution_count": 4,
   "metadata": {
    "scrolled": true
   },
   "outputs": [
    {
     "data": {
      "text/plain": [
       "(172187, 7)"
      ]
     },
     "execution_count": 4,
     "metadata": {},
     "output_type": "execute_result"
    }
   ],
   "source": [
    "data.shape"
   ]
  },
  {
   "cell_type": "code",
   "execution_count": 65,
   "metadata": {},
   "outputs": [
    {
     "data": {
      "text/plain": [
       "(172187, 3)"
      ]
     },
     "execution_count": 65,
     "metadata": {},
     "output_type": "execute_result"
    }
   ],
   "source": [
    "movies = pd.DataFrame(data = data,columns=['user_id','token_name','user_rating'])\n",
    "movies.shape"
   ]
  },
  {
   "cell_type": "code",
   "execution_count": 66,
   "metadata": {},
   "outputs": [
    {
     "data": {
      "text/html": [
       "<div>\n",
       "<style>\n",
       "    .dataframe thead tr:only-child th {\n",
       "        text-align: right;\n",
       "    }\n",
       "\n",
       "    .dataframe thead th {\n",
       "        text-align: left;\n",
       "    }\n",
       "\n",
       "    .dataframe tbody tr th {\n",
       "        vertical-align: top;\n",
       "    }\n",
       "</style>\n",
       "<table border=\"1\" class=\"dataframe\">\n",
       "  <thead>\n",
       "    <tr style=\"text-align: right;\">\n",
       "      <th></th>\n",
       "      <th>user_id</th>\n",
       "      <th>item_id</th>\n",
       "      <th>u_rating</th>\n",
       "    </tr>\n",
       "  </thead>\n",
       "  <tbody>\n",
       "    <tr>\n",
       "      <th>0</th>\n",
       "      <td>ilmi_</td>\n",
       "      <td>citizen-kane</td>\n",
       "      <td>10.0</td>\n",
       "    </tr>\n",
       "    <tr>\n",
       "      <th>1</th>\n",
       "      <td>GAMERGUYCASUAL</td>\n",
       "      <td>citizen-kane</td>\n",
       "      <td>6.0</td>\n",
       "    </tr>\n",
       "    <tr>\n",
       "      <th>2</th>\n",
       "      <td>Vladthepoker</td>\n",
       "      <td>citizen-kane</td>\n",
       "      <td>10.0</td>\n",
       "    </tr>\n",
       "    <tr>\n",
       "      <th>3</th>\n",
       "      <td>JoseAngel47</td>\n",
       "      <td>citizen-kane</td>\n",
       "      <td>0.0</td>\n",
       "    </tr>\n",
       "    <tr>\n",
       "      <th>4</th>\n",
       "      <td>Jalumbi</td>\n",
       "      <td>citizen-kane</td>\n",
       "      <td>9.0</td>\n",
       "    </tr>\n",
       "  </tbody>\n",
       "</table>\n",
       "</div>"
      ],
      "text/plain": [
       "          user_id       item_id  u_rating\n",
       "0           ilmi_  citizen-kane      10.0\n",
       "1  GAMERGUYCASUAL  citizen-kane       6.0\n",
       "2    Vladthepoker  citizen-kane      10.0\n",
       "3     JoseAngel47  citizen-kane       0.0\n",
       "4         Jalumbi  citizen-kane       9.0"
      ]
     },
     "execution_count": 66,
     "metadata": {},
     "output_type": "execute_result"
    }
   ],
   "source": [
    "movies.columns = ['user_id','item_id','u_rating']\n",
    "movies.head()"
   ]
  },
  {
   "cell_type": "code",
   "execution_count": 105,
   "metadata": {},
   "outputs": [
    {
     "data": {
      "text/plain": [
       "(897126, 7)"
      ]
     },
     "execution_count": 105,
     "metadata": {},
     "output_type": "execute_result"
    }
   ],
   "source": [
    "games = pd.read_csv('data//user_reviews_by_games.csv',delimiter='|',encoding = 'utf8',engine='python')\n",
    "games.shape"
   ]
  },
  {
   "cell_type": "code",
   "execution_count": 108,
   "metadata": {
    "collapsed": true
   },
   "outputs": [],
   "source": [
    "games_ui = games[['user_id','token_name','user_rating']]\n",
    "games_ui.columns = ['user_id','item_id','u_rating']"
   ]
  },
  {
   "cell_type": "code",
   "execution_count": 109,
   "metadata": {},
   "outputs": [
    {
     "data": {
      "text/html": [
       "<div>\n",
       "<style>\n",
       "    .dataframe thead tr:only-child th {\n",
       "        text-align: right;\n",
       "    }\n",
       "\n",
       "    .dataframe thead th {\n",
       "        text-align: left;\n",
       "    }\n",
       "\n",
       "    .dataframe tbody tr th {\n",
       "        vertical-align: top;\n",
       "    }\n",
       "</style>\n",
       "<table border=\"1\" class=\"dataframe\">\n",
       "  <thead>\n",
       "    <tr style=\"text-align: right;\">\n",
       "      <th></th>\n",
       "      <th>user_id</th>\n",
       "      <th>item_id</th>\n",
       "      <th>u_rating</th>\n",
       "    </tr>\n",
       "  </thead>\n",
       "  <tbody>\n",
       "    <tr>\n",
       "      <th>0</th>\n",
       "      <td>SirCaestus</td>\n",
       "      <td>nintendo-64/the-legend-of-zelda-ocarina-of-time</td>\n",
       "      <td>10.0</td>\n",
       "    </tr>\n",
       "    <tr>\n",
       "      <th>1</th>\n",
       "      <td>Kaistlin</td>\n",
       "      <td>nintendo-64/the-legend-of-zelda-ocarina-of-time</td>\n",
       "      <td>10.0</td>\n",
       "    </tr>\n",
       "    <tr>\n",
       "      <th>2</th>\n",
       "      <td>Jacody</td>\n",
       "      <td>nintendo-64/the-legend-of-zelda-ocarina-of-time</td>\n",
       "      <td>10.0</td>\n",
       "    </tr>\n",
       "    <tr>\n",
       "      <th>3</th>\n",
       "      <td>doodlerman</td>\n",
       "      <td>nintendo-64/the-legend-of-zelda-ocarina-of-time</td>\n",
       "      <td>10.0</td>\n",
       "    </tr>\n",
       "    <tr>\n",
       "      <th>4</th>\n",
       "      <td>StevenA</td>\n",
       "      <td>nintendo-64/the-legend-of-zelda-ocarina-of-time</td>\n",
       "      <td>10.0</td>\n",
       "    </tr>\n",
       "  </tbody>\n",
       "</table>\n",
       "</div>"
      ],
      "text/plain": [
       "      user_id                                          item_id  u_rating\n",
       "0  SirCaestus  nintendo-64/the-legend-of-zelda-ocarina-of-time      10.0\n",
       "1    Kaistlin  nintendo-64/the-legend-of-zelda-ocarina-of-time      10.0\n",
       "2      Jacody  nintendo-64/the-legend-of-zelda-ocarina-of-time      10.0\n",
       "3  doodlerman  nintendo-64/the-legend-of-zelda-ocarina-of-time      10.0\n",
       "4     StevenA  nintendo-64/the-legend-of-zelda-ocarina-of-time      10.0"
      ]
     },
     "execution_count": 109,
     "metadata": {},
     "output_type": "execute_result"
    }
   ],
   "source": [
    "games_ui.head()"
   ]
  },
  {
   "cell_type": "code",
   "execution_count": 101,
   "metadata": {
    "collapsed": true
   },
   "outputs": [],
   "source": [
    "tv = pd.read_csv('data//user_reviews_by_tv.csv',delimiter = '|',encoding='utf8',engine='python')"
   ]
  },
  {
   "cell_type": "code",
   "execution_count": 102,
   "metadata": {},
   "outputs": [
    {
     "data": {
      "text/plain": [
       "(73041, 7)"
      ]
     },
     "execution_count": 102,
     "metadata": {},
     "output_type": "execute_result"
    }
   ],
   "source": [
    "tv.shape"
   ]
  },
  {
   "cell_type": "code",
   "execution_count": 110,
   "metadata": {
    "collapsed": true
   },
   "outputs": [],
   "source": [
    "tv_ui = tv[['user_id','token_name','user_rating']]\n",
    "tv_ui.columns = ['user_id','item_id','u_rating']"
   ]
  },
  {
   "cell_type": "code",
   "execution_count": 111,
   "metadata": {},
   "outputs": [
    {
     "data": {
      "text/html": [
       "<div>\n",
       "<style>\n",
       "    .dataframe thead tr:only-child th {\n",
       "        text-align: right;\n",
       "    }\n",
       "\n",
       "    .dataframe thead th {\n",
       "        text-align: left;\n",
       "    }\n",
       "\n",
       "    .dataframe tbody tr th {\n",
       "        vertical-align: top;\n",
       "    }\n",
       "</style>\n",
       "<table border=\"1\" class=\"dataframe\">\n",
       "  <thead>\n",
       "    <tr style=\"text-align: right;\">\n",
       "      <th></th>\n",
       "      <th>user_id</th>\n",
       "      <th>item_id</th>\n",
       "      <th>u_rating</th>\n",
       "    </tr>\n",
       "  </thead>\n",
       "  <tbody>\n",
       "    <tr>\n",
       "      <th>0</th>\n",
       "      <td>MrNobody19884</td>\n",
       "      <td>rectify/season-4</td>\n",
       "      <td>10.0</td>\n",
       "    </tr>\n",
       "    <tr>\n",
       "      <th>1</th>\n",
       "      <td>moviebuffers</td>\n",
       "      <td>rectify/season-4</td>\n",
       "      <td>10.0</td>\n",
       "    </tr>\n",
       "    <tr>\n",
       "      <th>2</th>\n",
       "      <td>dan547</td>\n",
       "      <td>rectify/season-4</td>\n",
       "      <td>10.0</td>\n",
       "    </tr>\n",
       "    <tr>\n",
       "      <th>3</th>\n",
       "      <td>toph123</td>\n",
       "      <td>rectify/season-4</td>\n",
       "      <td>10.0</td>\n",
       "    </tr>\n",
       "    <tr>\n",
       "      <th>4</th>\n",
       "      <td>JorgeLestre</td>\n",
       "      <td>rectify/season-4</td>\n",
       "      <td>10.0</td>\n",
       "    </tr>\n",
       "  </tbody>\n",
       "</table>\n",
       "</div>"
      ],
      "text/plain": [
       "         user_id           item_id  u_rating\n",
       "0  MrNobody19884  rectify/season-4      10.0\n",
       "1   moviebuffers  rectify/season-4      10.0\n",
       "2         dan547  rectify/season-4      10.0\n",
       "3        toph123  rectify/season-4      10.0\n",
       "4    JorgeLestre  rectify/season-4      10.0"
      ]
     },
     "execution_count": 111,
     "metadata": {},
     "output_type": "execute_result"
    }
   ],
   "source": [
    "tv_ui.head()"
   ]
  },
  {
   "cell_type": "code",
   "execution_count": 96,
   "metadata": {
    "collapsed": true
   },
   "outputs": [],
   "source": [
    "music = pd.read_csv('data//user_reviews_by_music.csv',delimiter = '|')"
   ]
  },
  {
   "cell_type": "code",
   "execution_count": 97,
   "metadata": {},
   "outputs": [
    {
     "data": {
      "text/plain": [
       "(121421, 7)"
      ]
     },
     "execution_count": 97,
     "metadata": {},
     "output_type": "execute_result"
    }
   ],
   "source": [
    "music.shape"
   ]
  },
  {
   "cell_type": "code",
   "execution_count": 112,
   "metadata": {
    "collapsed": true
   },
   "outputs": [],
   "source": [
    "music_ui = music[['user_id','token_name','user_rating']]\n",
    "music_ui.columns = ['user_id','item_id','u_rating']"
   ]
  },
  {
   "cell_type": "code",
   "execution_count": 114,
   "metadata": {},
   "outputs": [
    {
     "data": {
      "text/html": [
       "<div>\n",
       "<style>\n",
       "    .dataframe thead tr:only-child th {\n",
       "        text-align: right;\n",
       "    }\n",
       "\n",
       "    .dataframe thead th {\n",
       "        text-align: left;\n",
       "    }\n",
       "\n",
       "    .dataframe tbody tr th {\n",
       "        vertical-align: top;\n",
       "    }\n",
       "</style>\n",
       "<table border=\"1\" class=\"dataframe\">\n",
       "  <thead>\n",
       "    <tr style=\"text-align: right;\">\n",
       "      <th></th>\n",
       "      <th>user_id</th>\n",
       "      <th>item_id</th>\n",
       "      <th>u_rating</th>\n",
       "    </tr>\n",
       "  </thead>\n",
       "  <tbody>\n",
       "    <tr>\n",
       "      <th>0</th>\n",
       "      <td>kingofjersey</td>\n",
       "      <td>ten-freedom-summers/wadada-leo-smith</td>\n",
       "      <td>10.0</td>\n",
       "    </tr>\n",
       "    <tr>\n",
       "      <th>1</th>\n",
       "      <td>BENNEB</td>\n",
       "      <td>ten-freedom-summers/wadada-leo-smith</td>\n",
       "      <td>10.0</td>\n",
       "    </tr>\n",
       "    <tr>\n",
       "      <th>2</th>\n",
       "      <td>ScumbagHo</td>\n",
       "      <td>ten-freedom-summers/wadada-leo-smith</td>\n",
       "      <td>8.0</td>\n",
       "    </tr>\n",
       "    <tr>\n",
       "      <th>3</th>\n",
       "      <td>roinujrino</td>\n",
       "      <td>ten-freedom-summers/wadada-leo-smith</td>\n",
       "      <td>10.0</td>\n",
       "    </tr>\n",
       "    <tr>\n",
       "      <th>4</th>\n",
       "      <td>AnthonyL</td>\n",
       "      <td>smile/brian-wilson</td>\n",
       "      <td>10.0</td>\n",
       "    </tr>\n",
       "  </tbody>\n",
       "</table>\n",
       "</div>"
      ],
      "text/plain": [
       "        user_id                               item_id  u_rating\n",
       "0  kingofjersey  ten-freedom-summers/wadada-leo-smith      10.0\n",
       "1        BENNEB  ten-freedom-summers/wadada-leo-smith      10.0\n",
       "2     ScumbagHo  ten-freedom-summers/wadada-leo-smith       8.0\n",
       "3    roinujrino  ten-freedom-summers/wadada-leo-smith      10.0\n",
       "4      AnthonyL                    smile/brian-wilson      10.0"
      ]
     },
     "execution_count": 114,
     "metadata": {},
     "output_type": "execute_result"
    }
   ],
   "source": [
    "music_ui.head()"
   ]
  },
  {
   "cell_type": "markdown",
   "metadata": {},
   "source": [
    "#### Filter the data for users and items such that each user have reviewed atleast 5 items and each item have reviews from atleast 5 users. "
   ]
  },
  {
   "cell_type": "code",
   "execution_count": 2,
   "metadata": {
    "collapsed": true
   },
   "outputs": [],
   "source": [
    "def filter_user_item_matrix(dataframe):\n",
    "    \"\"\"\n",
    "    Function to filter the user-item dataframe with 5-cores i.e. each user have reviewed atleast 5 items and each item have atleast 5 user reviews.\n",
    "    Arguments:\n",
    "        dataframe: function takes a dataframe with user_id, item_id and user_rating info\n",
    "    Return:\n",
    "        A filtered dataframe.\n",
    "    \"\"\"\n",
    "    while True:\n",
    "        if dataframe.user_id.value_counts()[-1:][0] >5:\n",
    "            #print(True)\n",
    "            if dataframe.item_id.value_counts()[-1:][0] >5:\n",
    "                #print(True)\n",
    "                break\n",
    "            else:\n",
    "                #print(False)\n",
    "                index = dataframe.index[dataframe.groupby('item_id')['user_id'].transform('count') > 5]\n",
    "                dataframe = dataframe.loc[index,]\n",
    "        else:\n",
    "            #print(False)\n",
    "            index = dataframe.index[dataframe.groupby('user_id')['item_id'].transform('count') > 5]\n",
    "            dataframe = dataframe.loc[index,]\n",
    "    return(dataframe)"
   ]
  },
  {
   "cell_type": "code",
   "execution_count": 121,
   "metadata": {
    "collapsed": true
   },
   "outputs": [],
   "source": [
    "movies = filter_user_item_matrix(movies)"
   ]
  },
  {
   "cell_type": "code",
   "execution_count": 122,
   "metadata": {},
   "outputs": [
    {
     "data": {
      "text/plain": [
       "(102152, 3)"
      ]
     },
     "execution_count": 122,
     "metadata": {},
     "output_type": "execute_result"
    }
   ],
   "source": [
    "movies.shape"
   ]
  },
  {
   "cell_type": "code",
   "execution_count": 116,
   "metadata": {},
   "outputs": [
    {
     "name": "stdout",
     "output_type": "stream",
     "text": [
      "False\n",
      "True\n",
      "False\n",
      "False\n",
      "True\n",
      "False\n",
      "False\n",
      "True\n",
      "False\n",
      "False\n",
      "True\n",
      "False\n",
      "False\n",
      "True\n",
      "False\n",
      "False\n",
      "True\n",
      "False\n",
      "False\n",
      "True\n",
      "True\n"
     ]
    }
   ],
   "source": [
    "tv_ui = filter_user_item_matrix(tv_ui)"
   ]
  },
  {
   "cell_type": "raw",
   "metadata": {},
   "source": [
    "print(tv_ui.user_id.value_counts()[-1:])\n",
    "print(tv_ui.item_id.value_counts()[-1:])"
   ]
  },
  {
   "cell_type": "code",
   "execution_count": 120,
   "metadata": {},
   "outputs": [
    {
     "data": {
      "text/plain": [
       "(9398, 3)"
      ]
     },
     "execution_count": 120,
     "metadata": {},
     "output_type": "execute_result"
    }
   ],
   "source": [
    "tv_ui.shape"
   ]
  },
  {
   "cell_type": "code",
   "execution_count": 123,
   "metadata": {
    "collapsed": true
   },
   "outputs": [],
   "source": [
    "games_ui = filter_user_item_matrix(games_ui)"
   ]
  },
  {
   "cell_type": "code",
   "execution_count": 125,
   "metadata": {},
   "outputs": [
    {
     "data": {
      "text/plain": [
       "(191552, 3)"
      ]
     },
     "execution_count": 125,
     "metadata": {},
     "output_type": "execute_result"
    }
   ],
   "source": [
    "games_ui.shape"
   ]
  },
  {
   "cell_type": "code",
   "execution_count": 126,
   "metadata": {
    "collapsed": true
   },
   "outputs": [],
   "source": [
    "music_ui = filter_user_item_matrix(music_ui)"
   ]
  },
  {
   "cell_type": "code",
   "execution_count": 127,
   "metadata": {},
   "outputs": [
    {
     "data": {
      "text/plain": [
       "(32625, 3)"
      ]
     },
     "execution_count": 127,
     "metadata": {},
     "output_type": "execute_result"
    }
   ],
   "source": [
    "music_ui.shape"
   ]
  },
  {
   "cell_type": "markdown",
   "metadata": {},
   "source": [
    "#### Create Train-Test split using 5 folds.\n",
    "The train-test split is created manually assigning numbers 1-5 to each line. Then the rows with number 1 are seperated to create a test set and all other rows are kept as training set. This manual folds method is used ensure that we have atleast one entry of every user in the test set.\n",
    "Notes: The current method of assigning a number to each row is very inefficient. I need to find an effective method for this function."
   ]
  },
  {
   "cell_type": "code",
   "execution_count": 1,
   "metadata": {
    "collapsed": true
   },
   "outputs": [],
   "source": [
    "def assign_fold_number(df,nfolds):\n",
    "    \"\"\"\n",
    "    Assigns a number to each row of dataset based on nfolds. This function assists in custom_train_test_split function.\n",
    "    Arguments:\n",
    "        df: dataframe\n",
    "        nfolds: number of folds. The numbers are assigned from 1-n\n",
    "    Returns:\n",
    "        dataframe with fold number assigned to each row.\n",
    "    \"\"\"\n",
    "    num =1\n",
    "    for index in df.index:\n",
    "        if num <=nfolds:\n",
    "            df.loc[index,'n'] = num\n",
    "            num+=1\n",
    "        else:\n",
    "            num=1\n",
    "            df.loc[index,'n'] = num\n",
    "            num+=1\n",
    "    return(df)"
   ]
  },
  {
   "cell_type": "code",
   "execution_count": 4,
   "metadata": {
    "collapsed": true
   },
   "outputs": [],
   "source": [
    "def save_dataset_folds(df,file_name,nfolds=5):\n",
    "    \"\"\"\n",
    "    This function saves the dataset folds on disk as csv file as per the fold number assigned in specified column.\n",
    "    Arguments:\n",
    "        df: dataframe whose folds to be saved\n",
    "        file_name: name of the file on disk. files will be names as file_name1.csv, filename2.csv etc..\n",
    "        nfolds: number of folds assigned in the dataset. It should be equal to the number of folds created in supplied dataset. If the number provided is less than the folds in dataset, the remaining data will be lost.\n",
    "                Default nfolds=5\n",
    "    Output:\n",
    "        Creates csv files equal to nfolds value. The files are stored in [data] folder.\n",
    "    \"\"\"\n",
    "    for n in range(1,nfolds+1):\n",
    "        d1 = df[df['n']==n][['user_id','item_id','u_rating']]\n",
    "        d1.to_csv('data//{}{}.csv'.format(df_name,n),index=False,sep = '|')"
   ]
  },
  {
   "cell_type": "markdown",
   "metadata": {},
   "source": [
    "##### movies dataset"
   ]
  },
  {
   "cell_type": "code",
   "execution_count": 205,
   "metadata": {
    "collapsed": true
   },
   "outputs": [],
   "source": [
    "df = assign_fold_number(movies,nfolds=5)"
   ]
  },
  {
   "cell_type": "code",
   "execution_count": 206,
   "metadata": {
    "collapsed": true
   },
   "outputs": [],
   "source": [
    "save_dataset_folds(df,'movies',5)"
   ]
  },
  {
   "cell_type": "markdown",
   "metadata": {},
   "source": [
    "##### games folds dataset"
   ]
  },
  {
   "cell_type": "code",
   "execution_count": 194,
   "metadata": {
    "collapsed": true
   },
   "outputs": [],
   "source": [
    "df = assign_fold_number(games_ui,nfolds=5)"
   ]
  },
  {
   "cell_type": "code",
   "execution_count": 200,
   "metadata": {
    "collapsed": true
   },
   "outputs": [],
   "source": [
    "save_dataset_folds(df,'games',5)"
   ]
  },
  {
   "cell_type": "markdown",
   "metadata": {},
   "source": [
    "##### tv folds datasets"
   ]
  },
  {
   "cell_type": "code",
   "execution_count": 201,
   "metadata": {
    "collapsed": true
   },
   "outputs": [],
   "source": [
    "df = assign_fold_number(tv_ui,nfolds=5)"
   ]
  },
  {
   "cell_type": "code",
   "execution_count": 202,
   "metadata": {
    "collapsed": true
   },
   "outputs": [],
   "source": [
    "save_dataset_folds(df,'tv',5)"
   ]
  },
  {
   "cell_type": "markdown",
   "metadata": {},
   "source": [
    "##### music folds datasets"
   ]
  },
  {
   "cell_type": "code",
   "execution_count": 203,
   "metadata": {
    "collapsed": true
   },
   "outputs": [],
   "source": [
    "df = assign_fold_number(music_ui,nfolds=5)"
   ]
  },
  {
   "cell_type": "code",
   "execution_count": 204,
   "metadata": {
    "collapsed": true
   },
   "outputs": [],
   "source": [
    "save_dataset_folds(df,'music',5)"
   ]
  }
 ],
 "metadata": {
  "kernelspec": {
   "display_name": "Python 3",
   "language": "python",
   "name": "python3"
  },
  "language_info": {
   "codemirror_mode": {
    "name": "ipython",
    "version": 3
   },
   "file_extension": ".py",
   "mimetype": "text/x-python",
   "name": "python",
   "nbconvert_exporter": "python",
   "pygments_lexer": "ipython3",
   "version": "3.6.2"
  }
 },
 "nbformat": 4,
 "nbformat_minor": 2
}
