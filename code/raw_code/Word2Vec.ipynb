{
 "cells": [
  {
   "cell_type": "raw",
   "metadata": {},
   "source": [
    "import tensorflow as tf"
   ]
  },
  {
   "cell_type": "code",
   "execution_count": 2,
   "metadata": {},
   "outputs": [
    {
     "name": "stderr",
     "output_type": "stream",
     "text": [
      "C:\\Users\\Gurpreet\\Anaconda3\\lib\\site-packages\\gensim\\utils.py:1209: UserWarning: detected Windows; aliasing chunkize to chunkize_serial\n",
      "  warnings.warn(\"detected Windows; aliasing chunkize to chunkize_serial\")\n"
     ]
    }
   ],
   "source": [
    "import pandas as pd\n",
    "import numpy as np\n",
    "import gensim\n",
    "from gensim.parsing.preprocessing import remove_stopwords\n",
    "from gensim.models.word2vec import LineSentence\n",
    "from nltk.corpus import stopwords\n",
    "import os"
   ]
  },
  {
   "cell_type": "markdown",
   "metadata": {},
   "source": [
    "#### build dataset"
   ]
  },
  {
   "cell_type": "code",
   "execution_count": 59,
   "metadata": {},
   "outputs": [
    {
     "data": {
      "text/plain": [
       "(172187, 7)"
      ]
     },
     "execution_count": 59,
     "metadata": {},
     "output_type": "execute_result"
    }
   ],
   "source": [
    "df = pd.read_csv('data//user_reviews_by_movies.csv',delimiter = '|',engine = 'python')\n",
    "df.shape\n"
   ]
  },
  {
   "cell_type": "markdown",
   "metadata": {},
   "source": [
    "#### Extract all the words from user_reviews summary and store as a list of words"
   ]
  },
  {
   "cell_type": "raw",
   "metadata": {
    "collapsed": true
   },
   "source": [
    "def build_data(dfname):\n",
    "    '''\n",
    "    Extract the user reviews summary data from dataset and store user reviews as a list of lists.\n",
    "    Args:\n",
    "        dfname: name of dataset whose user reviews summary needs to be extracted.\n",
    "                Valid values are ['movies','games','music','tv']\n",
    "    Returns:\n",
    "        A list of all the words found in user reviews summary.\n",
    "    '''\n",
    "    filename = 'data//user_reviews_by_{}.csv'.format(dfname)\n",
    "    df = pd.read_csv(filename,delimiter = '|',engine = 'python')\n",
    "    \n",
    "    arr = []\n",
    "    filename = 'data/summary_{}.txt'.format(dfname)\n",
    "    \n",
    "    arr = np.array(df.summary)\n",
    "    \n",
    "    np.savetxt(filename,arr,fmt='%-5s',encoding='utf-8')\n",
    "    #filename = 'data/summary_{}.txt'.format(dfname)\n",
    "    \n",
    "    print('Summary Data successfully saved in file:\"{}\"'.format(filename))\n"
   ]
  },
  {
   "cell_type": "code",
   "execution_count": 3,
   "metadata": {
    "collapsed": true
   },
   "outputs": [],
   "source": [
    "def build_data(extract_from,save_to,features_to_extract = []):\n",
    "    '''\n",
    "    Extract the user reviews summary data from dataset and store user reviews as a list of lists.\n",
    "    Args:\n",
    "        dfname: name of dataset whose user reviews summary needs to be extracted.\n",
    "                Valid values are ['movies','games','music','tv']\n",
    "    Returns:\n",
    "        A list of all the sentences/reviews found in user reviews summary.\n",
    "    '''\n",
    "    \n",
    "    if len(features_to_extract):\n",
    "        filename = os.path.join('data',extract_from)\n",
    "        df = pd.read_csv(filename,delimiter = '|',engine = 'python',usecols=features_to_extract)\n",
    "        df.to_csv()\n",
    "        \n",
    "        \n",
    "    else:\n",
    "        #filename = os.path.join('data','user_reviews_by_{}.csv').format(dfname)\n",
    "        filename = os.path.join('data',extract_from)\n",
    "        df = pd.read_csv(filename,delimiter = '|',engine = 'python')\n",
    "    \n",
    "    #arr = []\n",
    "    #filename = os.path.join('data','summary_{}.txt').format(dfname)\n",
    "    return df\n",
    "    #arr = np.array(df.summary)\n",
    "    #print(arr)\n",
    "    #np.savetxt(filename,arr,fmt='%-5s',encoding='utf-8')\n",
    "    \n",
    "    print('Summary Data successfully saved in file:\"{}\"'.format(filename))\n",
    "    \n",
    "   "
   ]
  },
  {
   "cell_type": "code",
   "execution_count": 44,
   "metadata": {},
   "outputs": [
    {
     "data": {
      "text/html": [
       "<div>\n",
       "<style>\n",
       "    .dataframe thead tr:only-child th {\n",
       "        text-align: right;\n",
       "    }\n",
       "\n",
       "    .dataframe thead th {\n",
       "        text-align: left;\n",
       "    }\n",
       "\n",
       "    .dataframe tbody tr th {\n",
       "        vertical-align: top;\n",
       "    }\n",
       "</style>\n",
       "<table border=\"1\" class=\"dataframe\">\n",
       "  <thead>\n",
       "    <tr style=\"text-align: right;\">\n",
       "      <th></th>\n",
       "      <th>user_id</th>\n",
       "      <th>token_name</th>\n",
       "      <th>summary</th>\n",
       "    </tr>\n",
       "  </thead>\n",
       "  <tbody>\n",
       "    <tr>\n",
       "      <th>0</th>\n",
       "      <td>ilmi_</td>\n",
       "      <td>citizen-kane</td>\n",
       "      <td>Yang kasih rate 0-3 berarti sengaja menjatuhka...</td>\n",
       "    </tr>\n",
       "    <tr>\n",
       "      <th>1</th>\n",
       "      <td>GAMERGUYCASUAL</td>\n",
       "      <td>citizen-kane</td>\n",
       "      <td>This movie is incredibly boring, and while it ...</td>\n",
       "    </tr>\n",
       "    <tr>\n",
       "      <th>2</th>\n",
       "      <td>Vladthepoker</td>\n",
       "      <td>citizen-kane</td>\n",
       "      <td>My personal favorite movie of all time, Orson ...</td>\n",
       "    </tr>\n",
       "    <tr>\n",
       "      <th>3</th>\n",
       "      <td>JoseAngel47</td>\n",
       "      <td>citizen-kane</td>\n",
       "      <td>Rosebud is the Name of his sled. There I just ...</td>\n",
       "    </tr>\n",
       "    <tr>\n",
       "      <th>4</th>\n",
       "      <td>Jalumbi</td>\n",
       "      <td>citizen-kane</td>\n",
       "      <td>While the third act isn't the perfectly built ...</td>\n",
       "    </tr>\n",
       "    <tr>\n",
       "      <th>5</th>\n",
       "      <td>MasterRiley</td>\n",
       "      <td>citizen-kane</td>\n",
       "      <td>Citizen Kane is a remarkable work of cinema, o...</td>\n",
       "    </tr>\n",
       "    <tr>\n",
       "      <th>6</th>\n",
       "      <td>1996</td>\n",
       "      <td>citizen-kane</td>\n",
       "      <td>Wonderful, marvelous, glorious, fabulous... th...</td>\n",
       "    </tr>\n",
       "    <tr>\n",
       "      <th>7</th>\n",
       "      <td>BeastJ18</td>\n",
       "      <td>citizen-kane</td>\n",
       "      <td>Intelligent, ground-breaking, a great filmic l...</td>\n",
       "    </tr>\n",
       "    <tr>\n",
       "      <th>8</th>\n",
       "      <td>GabrielHU3ttdz6</td>\n",
       "      <td>citizen-kane</td>\n",
       "      <td>It's a really nice movie, but \"The Best Movie ...</td>\n",
       "    </tr>\n",
       "    <tr>\n",
       "      <th>9</th>\n",
       "      <td>wiiy71</td>\n",
       "      <td>citizen-kane</td>\n",
       "      <td>xxxxxxxxxxxxxxxxxxxxxxxxxxxxxxxxxxxxxxxxxxxxxx...</td>\n",
       "    </tr>\n",
       "    <tr>\n",
       "      <th>10</th>\n",
       "      <td>22WZ</td>\n",
       "      <td>citizen-kane</td>\n",
       "      <td>Wow, what a film. After rewatching Citizen Kan...</td>\n",
       "    </tr>\n",
       "    <tr>\n",
       "      <th>11</th>\n",
       "      <td>KingCrasher</td>\n",
       "      <td>citizen-kane</td>\n",
       "      <td>A unique way to present a quasi-biographical f...</td>\n",
       "    </tr>\n",
       "    <tr>\n",
       "      <th>12</th>\n",
       "      <td>hardcorekidd</td>\n",
       "      <td>citizen-kane</td>\n",
       "      <td>When a reporter is assigned to decipher newspa...</td>\n",
       "    </tr>\n",
       "    <tr>\n",
       "      <th>13</th>\n",
       "      <td>amheretojudge</td>\n",
       "      <td>citizen-kane</td>\n",
       "      <td>don't tell me you're sorry..Citizen KaneDepict...</td>\n",
       "    </tr>\n",
       "    <tr>\n",
       "      <th>14</th>\n",
       "      <td>auburnn</td>\n",
       "      <td>citizen-kane</td>\n",
       "      <td>Inspiring narrative, use of deep focus cinemat...</td>\n",
       "    </tr>\n",
       "    <tr>\n",
       "      <th>15</th>\n",
       "      <td>Scorsescock</td>\n",
       "      <td>citizen-kane</td>\n",
       "      <td>I watched this movie to see if it was as great...</td>\n",
       "    </tr>\n",
       "    <tr>\n",
       "      <th>16</th>\n",
       "      <td>drone41</td>\n",
       "      <td>citizen-kane</td>\n",
       "      <td>It's absolutely one of those movies who you mu...</td>\n",
       "    </tr>\n",
       "    <tr>\n",
       "      <th>17</th>\n",
       "      <td>FilipeNeto</td>\n",
       "      <td>citizen-kane</td>\n",
       "      <td>This film focuses on the figure of Mr. Kane, a...</td>\n",
       "    </tr>\n",
       "    <tr>\n",
       "      <th>18</th>\n",
       "      <td>PHIL_</td>\n",
       "      <td>citizen-kane</td>\n",
       "      <td>A classic among all classics. The epitome of a...</td>\n",
       "    </tr>\n",
       "    <tr>\n",
       "      <th>19</th>\n",
       "      <td>hennynut08</td>\n",
       "      <td>citizen-kane</td>\n",
       "      <td>i anm omly 7 yers odl and i hav lov this movie...</td>\n",
       "    </tr>\n",
       "  </tbody>\n",
       "</table>\n",
       "</div>"
      ],
      "text/plain": [
       "            user_id    token_name  \\\n",
       "0             ilmi_  citizen-kane   \n",
       "1    GAMERGUYCASUAL  citizen-kane   \n",
       "2      Vladthepoker  citizen-kane   \n",
       "3       JoseAngel47  citizen-kane   \n",
       "4           Jalumbi  citizen-kane   \n",
       "5       MasterRiley  citizen-kane   \n",
       "6              1996  citizen-kane   \n",
       "7          BeastJ18  citizen-kane   \n",
       "8   GabrielHU3ttdz6  citizen-kane   \n",
       "9            wiiy71  citizen-kane   \n",
       "10             22WZ  citizen-kane   \n",
       "11      KingCrasher  citizen-kane   \n",
       "12     hardcorekidd  citizen-kane   \n",
       "13    amheretojudge  citizen-kane   \n",
       "14          auburnn  citizen-kane   \n",
       "15      Scorsescock  citizen-kane   \n",
       "16          drone41  citizen-kane   \n",
       "17       FilipeNeto  citizen-kane   \n",
       "18            PHIL_  citizen-kane   \n",
       "19       hennynut08  citizen-kane   \n",
       "\n",
       "                                              summary  \n",
       "0   Yang kasih rate 0-3 berarti sengaja menjatuhka...  \n",
       "1   This movie is incredibly boring, and while it ...  \n",
       "2   My personal favorite movie of all time, Orson ...  \n",
       "3   Rosebud is the Name of his sled. There I just ...  \n",
       "4   While the third act isn't the perfectly built ...  \n",
       "5   Citizen Kane is a remarkable work of cinema, o...  \n",
       "6   Wonderful, marvelous, glorious, fabulous... th...  \n",
       "7   Intelligent, ground-breaking, a great filmic l...  \n",
       "8   It's a really nice movie, but \"The Best Movie ...  \n",
       "9   xxxxxxxxxxxxxxxxxxxxxxxxxxxxxxxxxxxxxxxxxxxxxx...  \n",
       "10  Wow, what a film. After rewatching Citizen Kan...  \n",
       "11  A unique way to present a quasi-biographical f...  \n",
       "12  When a reporter is assigned to decipher newspa...  \n",
       "13  don't tell me you're sorry..Citizen KaneDepict...  \n",
       "14  Inspiring narrative, use of deep focus cinemat...  \n",
       "15  I watched this movie to see if it was as great...  \n",
       "16  It's absolutely one of those movies who you mu...  \n",
       "17  This film focuses on the figure of Mr. Kane, a...  \n",
       "18  A classic among all classics. The epitome of a...  \n",
       "19  i anm omly 7 yers odl and i hav lov this movie...  "
      ]
     },
     "execution_count": 44,
     "metadata": {},
     "output_type": "execute_result"
    }
   ],
   "source": [
    "df = build_data('user_reviews_by_movies.csv','user_item_summary.csv',['user_id','token_name','summary'])\n",
    "df.head(20)"
   ]
  },
  {
   "cell_type": "code",
   "execution_count": 47,
   "metadata": {},
   "outputs": [
    {
     "name": "stdout",
     "output_type": "stream",
     "text": [
      "(229711, 3)\n",
      "user_id           0\n",
      "token_name    57524\n",
      "summary       57573\n",
      "dtype: int64\n"
     ]
    }
   ],
   "source": [
    "print(df.shape)\n",
    "print(df.isnull().sum())"
   ]
  },
  {
   "cell_type": "code",
   "execution_count": 97,
   "metadata": {},
   "outputs": [
    {
     "data": {
      "text/html": [
       "<div>\n",
       "<style>\n",
       "    .dataframe thead tr:only-child th {\n",
       "        text-align: right;\n",
       "    }\n",
       "\n",
       "    .dataframe thead th {\n",
       "        text-align: left;\n",
       "    }\n",
       "\n",
       "    .dataframe tbody tr th {\n",
       "        vertical-align: top;\n",
       "    }\n",
       "</style>\n",
       "<table border=\"1\" class=\"dataframe\">\n",
       "  <thead>\n",
       "    <tr style=\"text-align: right;\">\n",
       "      <th></th>\n",
       "      <th>user_id</th>\n",
       "      <th>token_name</th>\n",
       "      <th>summary</th>\n",
       "    </tr>\n",
       "  </thead>\n",
       "  <tbody>\n",
       "    <tr>\n",
       "      <th>0</th>\n",
       "      <td>MrNobody19884</td>\n",
       "      <td>rectify/season-4</td>\n",
       "      <td>Just finished watching 1st episode of season 4...</td>\n",
       "    </tr>\n",
       "    <tr>\n",
       "      <th>1</th>\n",
       "      <td>moviebuffers</td>\n",
       "      <td>rectify/season-4</td>\n",
       "      <td>simply one of the greatest works of fiction ev...</td>\n",
       "    </tr>\n",
       "    <tr>\n",
       "      <th>2</th>\n",
       "      <td>dan547</td>\n",
       "      <td>rectify/season-4</td>\n",
       "      <td>Beautiful. The most apt word to describe this ...</td>\n",
       "    </tr>\n",
       "    <tr>\n",
       "      <th>3</th>\n",
       "      <td>toph123</td>\n",
       "      <td>rectify/season-4</td>\n",
       "      <td>This TV show is criminally underseen. One of t...</td>\n",
       "    </tr>\n",
       "    <tr>\n",
       "      <th>4</th>\n",
       "      <td>JorgeLestre</td>\n",
       "      <td>rectify/season-4</td>\n",
       "      <td>Rectify is the most humane show in the history...</td>\n",
       "    </tr>\n",
       "    <tr>\n",
       "      <th>5</th>\n",
       "      <td>volpino</td>\n",
       "      <td>rectify/season-4</td>\n",
       "      <td>This entire show is so full of meaning, is so ...</td>\n",
       "    </tr>\n",
       "    <tr>\n",
       "      <th>6</th>\n",
       "      <td>bertus</td>\n",
       "      <td>rectify/season-4</td>\n",
       "      <td>Rectify will forever stay in my heart as an ab...</td>\n",
       "    </tr>\n",
       "    <tr>\n",
       "      <th>7</th>\n",
       "      <td>TheZeroPercent</td>\n",
       "      <td>rectify/season-4</td>\n",
       "      <td>I checked this show out on Netflix, I ended up...</td>\n",
       "    </tr>\n",
       "    <tr>\n",
       "      <th>8</th>\n",
       "      <td>Bangstad</td>\n",
       "      <td>rectify/season-4</td>\n",
       "      <td>Breaking Bad is acclaimed at least in part bec...</td>\n",
       "    </tr>\n",
       "    <tr>\n",
       "      <th>9</th>\n",
       "      <td>s17k</td>\n",
       "      <td>rectify/season-4</td>\n",
       "      <td>The finest show I've ever watched. Deeply emot...</td>\n",
       "    </tr>\n",
       "    <tr>\n",
       "      <th>10</th>\n",
       "      <td>markydisco</td>\n",
       "      <td>rectify/season-4</td>\n",
       "      <td>In my opinion, this is quite possibly the best...</td>\n",
       "    </tr>\n",
       "    <tr>\n",
       "      <th>11</th>\n",
       "      <td>Seppo</td>\n",
       "      <td>rectify/season-4</td>\n",
       "      <td>The best show on television, hands down. Gothi...</td>\n",
       "    </tr>\n",
       "  </tbody>\n",
       "</table>\n",
       "</div>"
      ],
      "text/plain": [
       "           user_id        token_name  \\\n",
       "0    MrNobody19884  rectify/season-4   \n",
       "1     moviebuffers  rectify/season-4   \n",
       "2           dan547  rectify/season-4   \n",
       "3          toph123  rectify/season-4   \n",
       "4      JorgeLestre  rectify/season-4   \n",
       "5          volpino  rectify/season-4   \n",
       "6           bertus  rectify/season-4   \n",
       "7   TheZeroPercent  rectify/season-4   \n",
       "8         Bangstad  rectify/season-4   \n",
       "9             s17k  rectify/season-4   \n",
       "10      markydisco  rectify/season-4   \n",
       "11           Seppo  rectify/season-4   \n",
       "\n",
       "                                              summary  \n",
       "0   Just finished watching 1st episode of season 4...  \n",
       "1   simply one of the greatest works of fiction ev...  \n",
       "2   Beautiful. The most apt word to describe this ...  \n",
       "3   This TV show is criminally underseen. One of t...  \n",
       "4   Rectify is the most humane show in the history...  \n",
       "5   This entire show is so full of meaning, is so ...  \n",
       "6   Rectify will forever stay in my heart as an ab...  \n",
       "7   I checked this show out on Netflix, I ended up...  \n",
       "8   Breaking Bad is acclaimed at least in part bec...  \n",
       "9   The finest show I've ever watched. Deeply emot...  \n",
       "10  In my opinion, this is quite possibly the best...  \n",
       "11  The best show on television, hands down. Gothi...  "
      ]
     },
     "execution_count": 97,
     "metadata": {},
     "output_type": "execute_result"
    }
   ],
   "source": [
    "test = build_data('user_reviews_by_test.csv','user_item_summary_test.csv',['user_id','token_name','summary'])\n",
    "test"
   ]
  },
  {
   "cell_type": "code",
   "execution_count": 92,
   "metadata": {},
   "outputs": [
    {
     "data": {
      "text/plain": [
       "user_id       0\n",
       "token_name    0\n",
       "summary       0\n",
       "dtype: int64"
      ]
     },
     "execution_count": 92,
     "metadata": {},
     "output_type": "execute_result"
    }
   ],
   "source": [
    "#CLEAN NULL VALUES FROM DATASET\n",
    "df1 = df.dropna(axis = 0,how='any')\n",
    "#Inject user and item in summary\n",
    "df1.isnull().sum()"
   ]
  },
  {
   "cell_type": "code",
   "execution_count": 85,
   "metadata": {
    "collapsed": true
   },
   "outputs": [],
   "source": [
    "#this function receives a listoflist object\n",
    "def inject_user_item_in_summary(data,inject_window_size = 15,save_to = 'ui_injection_test.txt'):\n",
    "    #iterate over rows of dataset\n",
    "    for index,row in data.iterrows():\n",
    "        u = row['user_id']\n",
    "        i = row['token_name']\n",
    "        lst = row['summary'].split()\n",
    "        #print(lst)\n",
    "        idx = 0\n",
    "        while(idx <=len(lst)):\n",
    "            [lst.insert(idx,a) for a in [i,u]]\n",
    "            idx +=inject_window_size\n",
    "        row['summary'] = ' '.join(lst)\n",
    "    \n",
    "    arr = np.array(data.summary)\n",
    "    #print(arr)\n",
    "    filename = os.path.join('data',save_to)\n",
    "    np.savetxt(filename,arr,fmt='%-5s',encoding='utf-8')\n",
    "    print('Injection File successfully saved.')"
   ]
  },
  {
   "cell_type": "code",
   "execution_count": 93,
   "metadata": {
    "scrolled": true
   },
   "outputs": [
    {
     "name": "stdout",
     "output_type": "stream",
     "text": [
      "Injection File successfully saved.\n"
     ]
    }
   ],
   "source": [
    "inject_user_item_in_summary(df1,inject_window_size=15)"
   ]
  },
  {
   "cell_type": "code",
   "execution_count": 98,
   "metadata": {},
   "outputs": [
    {
     "name": "stdout",
     "output_type": "stream",
     "text": [
      "Injection File successfully saved.\n"
     ]
    }
   ],
   "source": [
    "inject_user_item_in_summary(test,inject_window_size=15)"
   ]
  },
  {
   "cell_type": "code",
   "execution_count": 118,
   "metadata": {},
   "outputs": [
    {
     "name": "stdout",
     "output_type": "stream",
     "text": [
      "Summary Data successfully saved in file:\"data/summary_movies.txt\"\n"
     ]
    }
   ],
   "source": [
    "build_data('movies')"
   ]
  },
  {
   "cell_type": "code",
   "execution_count": 44,
   "metadata": {},
   "outputs": [
    {
     "name": "stdout",
     "output_type": "stream",
     "text": [
      "Summary Data successfully saved in file:\"data/summary_tv.txt\"\n"
     ]
    }
   ],
   "source": [
    "build_data('tv')"
   ]
  },
  {
   "cell_type": "code",
   "execution_count": 44,
   "metadata": {
    "collapsed": true
   },
   "outputs": [],
   "source": [
    "vocab = extract_summary_data('tv')"
   ]
  },
  {
   "cell_type": "code",
   "execution_count": 46,
   "metadata": {},
   "outputs": [
    {
     "data": {
      "text/plain": [
       "3811645"
      ]
     },
     "execution_count": 46,
     "metadata": {},
     "output_type": "execute_result"
    }
   ],
   "source": [
    "len(vocab)"
   ]
  },
  {
   "cell_type": "code",
   "execution_count": 64,
   "metadata": {
    "collapsed": true
   },
   "outputs": [],
   "source": [
    "def map_words(word_list):\n",
    "    '''\n",
    "    function maps word list to numbers. Unique words have unique ids.\n",
    "    Args:\n",
    "        word_list: list of words to map to numbers\n",
    "    Returns:\n",
    "        A number List with words mapped as numbers, word-number mapping dictionary and number-word mapping dictionary.\n",
    "    '''\n",
    "    #find unique words\n",
    "    unique_words = set(word_list)\n",
    "    #create hashing dict for unique words\n",
    "    map_dict = {}\n",
    "    reverse_map_dict = {}\n",
    "    #assign IDs to unique words\n",
    "    for ID,word in enumerate(unique_words):\n",
    "        map_dict[word] = ID\n",
    "        reverse_map_dict[ID] = word\n",
    "\n",
    "    #apply the hashing on the vocab data\n",
    "    data = list()\n",
    "    for word in word_list:\n",
    "        index = map_dict[word]\n",
    "        data.append(index)\n",
    "\n",
    "    return data,map_dict,reverse_map_dict"
   ]
  },
  {
   "cell_type": "code",
   "execution_count": 65,
   "metadata": {
    "collapsed": true
   },
   "outputs": [],
   "source": [
    "word_idx,map_dict,reverse_map_dict = map_words(vocab)"
   ]
  },
  {
   "cell_type": "markdown",
   "metadata": {},
   "source": [
    "## Word2Vec using lib gensim"
   ]
  },
  {
   "cell_type": "code",
   "execution_count": 41,
   "metadata": {
    "collapsed": true
   },
   "outputs": [],
   "source": [
    "def read_data(dfname):\n",
    "    \n",
    "    #load data from file\n",
    "    filename = 'data//summary_{}.txt'.format(dfname)\n",
    "    with open(filename,'rb') as f:\n",
    "        for line in f:\n",
    "            yield gensim.utils.simple_preprocess(line)\n",
    "    \n",
    "    #df = pd.read_csv(filename,delimiter = '|',engine = 'python')\n",
    "    \n",
    "    #initialize string var\n",
    "    #string = ''\n",
    "    #concat all the summary text if it is not null\n",
    "    #summary = [str(summary) for summary in df.summary if (summary !=None)]\n",
    "    #arr = np.array(summary)\n",
    "    #string = str(summary).replace('\\n','')\n",
    "    #return [gensim.utils.simple_preprocess(string)]"
   ]
  },
  {
   "cell_type": "code",
   "execution_count": 48,
   "metadata": {
    "collapsed": true
   },
   "outputs": [],
   "source": [
    "lst = list(read_data('test2'))"
   ]
  },
  {
   "cell_type": "code",
   "execution_count": 49,
   "metadata": {
    "scrolled": true
   },
   "outputs": [
    {
     "data": {
      "text/plain": [
       "3"
      ]
     },
     "execution_count": 49,
     "metadata": {},
     "output_type": "execute_result"
    }
   ],
   "source": [
    "len(lst)"
   ]
  },
  {
   "cell_type": "code",
   "execution_count": 4,
   "metadata": {
    "collapsed": true
   },
   "outputs": [],
   "source": [
    "import shutil"
   ]
  },
  {
   "cell_type": "code",
   "execution_count": 6,
   "metadata": {
    "collapsed": true
   },
   "outputs": [],
   "source": [
    "#combine summaries of all datasets into a single file\n",
    "dfname = ['movies','games','music','tv']\n",
    "outfile = 'data//summary_all.txt'\n",
    "with open(outfile,'wb') as out:\n",
    "    for fname in dfname:\n",
    "        infile = 'data//summary_{}.txt'.format(fname)\n",
    "        with open(infile,'rb') as f:\n",
    "            shutil.copyfileobj(f,out)"
   ]
  },
  {
   "cell_type": "code",
   "execution_count": null,
   "metadata": {
    "collapsed": true
   },
   "outputs": [],
   "source": []
  },
  {
   "cell_type": "markdown",
   "metadata": {},
   "source": [
    "### Word2Vec for 'TV'"
   ]
  },
  {
   "cell_type": "code",
   "execution_count": 5,
   "metadata": {
    "collapsed": true
   },
   "outputs": [],
   "source": [
    "#build_data('tv')\n",
    "data = list(read_data('tv'))"
   ]
  },
  {
   "cell_type": "code",
   "execution_count": 6,
   "metadata": {},
   "outputs": [
    {
     "data": {
      "text/plain": [
       "65599"
      ]
     },
     "execution_count": 6,
     "metadata": {},
     "output_type": "execute_result"
    }
   ],
   "source": [
    "len(data)"
   ]
  },
  {
   "cell_type": "code",
   "execution_count": 46,
   "metadata": {},
   "outputs": [
    {
     "data": {
      "text/plain": [
       "[['just',\n",
       "  'finished',\n",
       "  'watching',\n",
       "  'st',\n",
       "  'episode',\n",
       "  'of',\n",
       "  'season',\n",
       "  'never',\n",
       "  'have',\n",
       "  'ever',\n",
       "  'watched',\n",
       "  'anything',\n",
       "  'as',\n",
       "  'emotionally',\n",
       "  'mentally',\n",
       "  'engaging',\n",
       "  'as',\n",
       "  'this',\n",
       "  'have',\n",
       "  'so',\n",
       "  'far',\n",
       "  'watched',\n",
       "  'some',\n",
       "  'of',\n",
       "  'the',\n",
       "  'best',\n",
       "  'shows',\n",
       "  'on',\n",
       "  'tv',\n",
       "  'likes',\n",
       "  'of',\n",
       "  'sopranos',\n",
       "  'the',\n",
       "  'wire',\n",
       "  'mad',\n",
       "  'men',\n",
       "  'breaking',\n",
       "  'bad',\n",
       "  'homicide',\n",
       "  'life',\n",
       "  'on',\n",
       "  'the',\n",
       "  'streets',\n",
       "  'despite',\n",
       "  'very',\n",
       "  'modest',\n",
       "  'premise',\n",
       "  'rectify',\n",
       "  'has',\n",
       "  'been',\n",
       "  'the',\n",
       "  'best',\n",
       "  'tv',\n",
       "  'series',\n",
       "  'to',\n",
       "  'showcase',\n",
       "  'the',\n",
       "  'human',\n",
       "  'connection',\n",
       "  'of',\n",
       "  'sorts',\n",
       "  'in',\n",
       "  'very',\n",
       "  'real',\n",
       "  'profound',\n",
       "  'way',\n",
       "  'possible'],\n",
       " ['simply',\n",
       "  'one',\n",
       "  'of',\n",
       "  'the',\n",
       "  'greatest',\n",
       "  'works',\n",
       "  'of',\n",
       "  'fiction',\n",
       "  'ever',\n",
       "  'filmed',\n",
       "  'the',\n",
       "  'one',\n",
       "  'show',\n",
       "  'in',\n",
       "  'history',\n",
       "  'that',\n",
       "  'will',\n",
       "  'cause',\n",
       "  'you',\n",
       "  'to',\n",
       "  'go',\n",
       "  'back',\n",
       "  'and',\n",
       "  'ponder',\n",
       "  'each',\n",
       "  'scene',\n",
       "  'never',\n",
       "  'mind',\n",
       "  'each',\n",
       "  'episode',\n",
       "  'if',\n",
       "  'tv',\n",
       "  'had',\n",
       "  'such',\n",
       "  'thing',\n",
       "  'as',\n",
       "  'poetry',\n",
       "  'this',\n",
       "  'would',\n",
       "  'be',\n",
       "  'it',\n",
       "  'am',\n",
       "  'years',\n",
       "  'old',\n",
       "  'and',\n",
       "  'this',\n",
       "  'series',\n",
       "  'is',\n",
       "  'in',\n",
       "  'my',\n",
       "  'all',\n",
       "  'time',\n",
       "  'top',\n",
       "  'maybe',\n",
       "  'top'],\n",
       " ['beautiful',\n",
       "  'the',\n",
       "  'most',\n",
       "  'apt',\n",
       "  'word',\n",
       "  'to',\n",
       "  'describe',\n",
       "  'this',\n",
       "  'perfect',\n",
       "  'little',\n",
       "  'gem',\n",
       "  'of',\n",
       "  'series',\n",
       "  'have',\n",
       "  'been',\n",
       "  'entranced',\n",
       "  'by',\n",
       "  'this',\n",
       "  'show',\n",
       "  'from',\n",
       "  'the',\n",
       "  'beginning',\n",
       "  'with',\n",
       "  'its',\n",
       "  'characters',\n",
       "  'its',\n",
       "  'nuances',\n",
       "  'its',\n",
       "  'willingness',\n",
       "  'to',\n",
       "  'dive',\n",
       "  'deep',\n",
       "  'into',\n",
       "  'the',\n",
       "  'human',\n",
       "  'experience',\n",
       "  'this',\n",
       "  'season',\n",
       "  'is',\n",
       "  'sure',\n",
       "  'to',\n",
       "  'end',\n",
       "  'the',\n",
       "  'series',\n",
       "  'on',\n",
       "  'the',\n",
       "  'high',\n",
       "  'note',\n",
       "  'it',\n",
       "  'has',\n",
       "  'always',\n",
       "  'ridden',\n",
       "  'and',\n",
       "  'it',\n",
       "  'is',\n",
       "  'truly',\n",
       "  'bitter',\n",
       "  'sweet']]"
      ]
     },
     "execution_count": 46,
     "metadata": {},
     "output_type": "execute_result"
    }
   ],
   "source": [
    "data[:3]"
   ]
  },
  {
   "cell_type": "code",
   "execution_count": 47,
   "metadata": {},
   "outputs": [
    {
     "data": {
      "text/plain": [
       "(27761227, 36454710)"
      ]
     },
     "execution_count": 47,
     "metadata": {},
     "output_type": "execute_result"
    }
   ],
   "source": [
    "m2 = gensim.models.Word2Vec (data,size = 100, min_count = 1, window = 2,workers = 2,sg=1)\n",
    "m2.train(data,total_examples = len(data),epochs=10)"
   ]
  },
  {
   "cell_type": "code",
   "execution_count": 48,
   "metadata": {
    "scrolled": true
   },
   "outputs": [
    {
     "name": "stderr",
     "output_type": "stream",
     "text": [
      "C:\\Users\\Gurpreet\\Anaconda3\\lib\\site-packages\\gensim\\matutils.py:737: FutureWarning: Conversion of the second argument of issubdtype from `int` to `np.signedinteger` is deprecated. In future, it will be treated as `np.int32 == np.dtype(int).type`.\n",
      "  if np.issubdtype(vec.dtype, np.int):\n"
     ]
    },
    {
     "data": {
      "text/plain": [
       "[('rarely', 0.672122597694397),\n",
       " ('hasnt', 0.6523046493530273),\n",
       " ('havenâ', 0.6456286311149597),\n",
       " ('haven', 0.64161616563797),\n",
       " ('havent', 0.6347654461860657),\n",
       " ('ever', 0.6313737034797668),\n",
       " ('videodrome', 0.6168889999389648),\n",
       " ('havn', 0.6090279221534729),\n",
       " ('havnt', 0.6024558544158936),\n",
       " ('wouldnt', 0.6001440286636353)]"
      ]
     },
     "execution_count": 48,
     "metadata": {},
     "output_type": "execute_result"
    }
   ],
   "source": [
    "m2.wv.most_similar(positive='never')"
   ]
  },
  {
   "cell_type": "code",
   "execution_count": 49,
   "metadata": {},
   "outputs": [
    {
     "name": "stderr",
     "output_type": "stream",
     "text": [
      "C:\\Users\\Gurpreet\\Anaconda3\\lib\\site-packages\\gensim\\matutils.py:737: FutureWarning: Conversion of the second argument of issubdtype from `int` to `np.signedinteger` is deprecated. In future, it will be treated as `np.int32 == np.dtype(int).type`.\n",
      "  if np.issubdtype(vec.dtype, np.int):\n"
     ]
    },
    {
     "data": {
      "text/plain": [
       "[('compelling', 0.8460767865180969),\n",
       " ('intriguing', 0.8417369723320007),\n",
       " ('entertaining', 0.8291188478469849),\n",
       " ('interesting', 0.815762460231781),\n",
       " ('engrossing', 0.7920169234275818),\n",
       " ('captivating', 0.790175199508667),\n",
       " ('suspenseful', 0.7781546115875244),\n",
       " ('enjoyable', 0.7746325731277466),\n",
       " ('absorbing', 0.7668488621711731),\n",
       " ('inventive', 0.7593327760696411)]"
      ]
     },
     "execution_count": 49,
     "metadata": {},
     "output_type": "execute_result"
    }
   ],
   "source": [
    "m2.wv.most_similar('engaging')"
   ]
  },
  {
   "cell_type": "raw",
   "metadata": {},
   "source": [
    "model = gensim.models.Word2Vec(data,size = 100,window=10,min_count=2)\n",
    "model.train(data,total_examples = len(data),epochs = 5)"
   ]
  },
  {
   "cell_type": "raw",
   "metadata": {},
   "source": [
    "model.wv.most_similar('engaging')"
   ]
  },
  {
   "cell_type": "raw",
   "metadata": {},
   "source": [
    "model.wv.most_similar('watched')"
   ]
  },
  {
   "cell_type": "markdown",
   "metadata": {},
   "source": [
    "### Word2Vec for Movies"
   ]
  },
  {
   "cell_type": "code",
   "execution_count": null,
   "metadata": {
    "collapsed": true
   },
   "outputs": [],
   "source": [
    "build_data('movies')"
   ]
  },
  {
   "cell_type": "code",
   "execution_count": 7,
   "metadata": {
    "collapsed": true
   },
   "outputs": [],
   "source": [
    "movieData = list(read_data('movies'))"
   ]
  },
  {
   "cell_type": "code",
   "execution_count": 8,
   "metadata": {},
   "outputs": [
    {
     "data": {
      "text/plain": [
       "267827"
      ]
     },
     "execution_count": 8,
     "metadata": {},
     "output_type": "execute_result"
    }
   ],
   "source": [
    "len(movieData)"
   ]
  },
  {
   "cell_type": "code",
   "execution_count": 120,
   "metadata": {},
   "outputs": [
    {
     "data": {
      "text/plain": [
       "[['yang',\n",
       "  'kasih',\n",
       "  'rate',\n",
       "  'berarti',\n",
       "  'sengaja',\n",
       "  'menjatuhkan',\n",
       "  'karya',\n",
       "  'orang',\n",
       "  'lain',\n",
       "  'lu',\n",
       "  'pikir',\n",
       "  'bikin',\n",
       "  'film',\n",
       "  'itu',\n",
       "  'mudah',\n",
       "  'lu',\n",
       "  'pikir',\n",
       "  'penilaian',\n",
       "  'sebuah',\n",
       "  'film',\n",
       "  'bagus',\n",
       "  'atau',\n",
       "  'tidak',\n",
       "  'cuma',\n",
       "  'dinilai',\n",
       "  'dari',\n",
       "  'plot',\n",
       "  'nya',\n",
       "  'ceritanya',\n",
       "  'saja',\n",
       "  'misalnya',\n",
       "  'kalo',\n",
       "  'mau',\n",
       "  'kontribusi',\n",
       "  'kasih',\n",
       "  'rate',\n",
       "  'yang',\n",
       "  'objektif',\n",
       "  'lah',\n",
       "  'pertimbangkan',\n",
       "  'aspek',\n",
       "  'lain',\n",
       "  'dalam',\n",
       "  'film',\n",
       "  'tersebut',\n",
       "  'unsur',\n",
       "  'intrinsik',\n",
       "  'film',\n",
       "  'saya',\n",
       "  'pribadi',\n",
       "  'sangat',\n",
       "  'tidak',\n",
       "  'suka',\n",
       "  'dengan',\n",
       "  'orang',\n",
       "  'yang',\n",
       "  'tidak',\n",
       "  'menghargai',\n",
       "  'karya',\n",
       "  'orang',\n",
       "  'lain',\n",
       "  'dengan',\n",
       "  'melakukan',\n",
       "  'penilaian',\n",
       "  'hanya',\n",
       "  'dari',\n",
       "  'aspek',\n",
       "  'tertentu',\n",
       "  'tidak',\n",
       "  'menilainya',\n",
       "  'secara',\n",
       "  'keseluruhan',\n",
       "  'semua',\n",
       "  'aspek',\n",
       "  'yg',\n",
       "  'ada',\n",
       "  'dinilai',\n",
       "  'serta',\n",
       "  'memberikan',\n",
       "  'penilaian',\n",
       "  'secara',\n",
       "  'obyektif',\n",
       "  'bukannya',\n",
       "  'berdasarkan',\n",
       "  'emosi',\n",
       "  'perasaan',\n",
       "  'sendiri',\n",
       "  'semata',\n",
       "  'alias',\n",
       "  'subyektif'],\n",
       " ['this',\n",
       "  'movie',\n",
       "  'is',\n",
       "  'incredibly',\n",
       "  'boring',\n",
       "  'and',\n",
       "  'while',\n",
       "  'it',\n",
       "  'did',\n",
       "  'bring',\n",
       "  'to',\n",
       "  'the',\n",
       "  'table',\n",
       "  'many',\n",
       "  'modern',\n",
       "  'filming',\n",
       "  'techniques',\n",
       "  'it',\n",
       "  'nothing',\n",
       "  'to',\n",
       "  'go',\n",
       "  'on',\n",
       "  'about'],\n",
       " ['my',\n",
       "  'personal',\n",
       "  'favorite',\n",
       "  'movie',\n",
       "  'of',\n",
       "  'all',\n",
       "  'time',\n",
       "  'orson',\n",
       "  'welles',\n",
       "  'citizen',\n",
       "  'kane',\n",
       "  'is',\n",
       "  'masterpiece',\n",
       "  'of',\n",
       "  'cinema',\n",
       "  'the',\n",
       "  'most',\n",
       "  'acclaimed',\n",
       "  'element',\n",
       "  'of',\n",
       "  'the',\n",
       "  'film',\n",
       "  'the',\n",
       "  'camera',\n",
       "  'work',\n",
       "  'which',\n",
       "  'is',\n",
       "  'still',\n",
       "  'to',\n",
       "  'this',\n",
       "  'day',\n",
       "  'impressive',\n",
       "  'but',\n",
       "  'it',\n",
       "  'isn',\n",
       "  'just',\n",
       "  'there',\n",
       "  'to',\n",
       "  'be',\n",
       "  'flashy',\n",
       "  'it',\n",
       "  'helps',\n",
       "  'to',\n",
       "  'tell',\n",
       "  'the',\n",
       "  'story',\n",
       "  'the',\n",
       "  'shot',\n",
       "  'of',\n",
       "  'kane',\n",
       "  'walking',\n",
       "  'through',\n",
       "  'the',\n",
       "  'mirrors',\n",
       "  'might',\n",
       "  'be',\n",
       "  'the',\n",
       "  'most',\n",
       "  'depressing',\n",
       "  'shot',\n",
       "  'in',\n",
       "  'history',\n",
       "  'the',\n",
       "  'cinematography',\n",
       "  'isn',\n",
       "  'the',\n",
       "  'only',\n",
       "  'innovative',\n",
       "  'part',\n",
       "  'of',\n",
       "  'this',\n",
       "  'film',\n",
       "  'the',\n",
       "  'movie',\n",
       "  'opens',\n",
       "  'with',\n",
       "  'the',\n",
       "  'protagonist',\n",
       "  'dying',\n",
       "  'and',\n",
       "  'then',\n",
       "  'his',\n",
       "  'life',\n",
       "  'is',\n",
       "  'told',\n",
       "  'in',\n",
       "  'flashbacks',\n",
       "  'revolutionary',\n",
       "  'idea',\n",
       "  'for',\n",
       "  'the',\n",
       "  'narrative',\n",
       "  'structure',\n",
       "  'and',\n",
       "  'the',\n",
       "  'cinematography',\n",
       "  'are',\n",
       "  'usually',\n",
       "  'what',\n",
       "  'is',\n",
       "  'talked',\n",
       "  'about',\n",
       "  'in',\n",
       "  'reviews',\n",
       "  'of',\n",
       "  'citizen',\n",
       "  'kane',\n",
       "  'and',\n",
       "  'they',\n",
       "  'are',\n",
       "  'amazing',\n",
       "  'but',\n",
       "  'other',\n",
       "  'aspects',\n",
       "  'of',\n",
       "  'the',\n",
       "  'film',\n",
       "  'are',\n",
       "  'just',\n",
       "  'as',\n",
       "  'good',\n",
       "  'the',\n",
       "  'performances',\n",
       "  'from',\n",
       "  'the',\n",
       "  'mercury',\n",
       "  'actors',\n",
       "  'are',\n",
       "  'all',\n",
       "  'phenomenal',\n",
       "  'keep',\n",
       "  'in',\n",
       "  'mind',\n",
       "  'they',\n",
       "  'all',\n",
       "  'had',\n",
       "  'to',\n",
       "  'age',\n",
       "  'fifty',\n",
       "  'years',\n",
       "  'for',\n",
       "  'their',\n",
       "  'roles',\n",
       "  'the',\n",
       "  'script',\n",
       "  'the',\n",
       "  'only',\n",
       "  'thing',\n",
       "  'that',\n",
       "  'won',\n",
       "  'an',\n",
       "  'oscar',\n",
       "  'is',\n",
       "  'also',\n",
       "  'fantastic',\n",
       "  'the',\n",
       "  'bernstein',\n",
       "  'monologue',\n",
       "  'being',\n",
       "  'one',\n",
       "  'of',\n",
       "  'the',\n",
       "  'stand',\n",
       "  'out',\n",
       "  'moments',\n",
       "  'bernard',\n",
       "  'herman',\n",
       "  'score',\n",
       "  'is',\n",
       "  'also',\n",
       "  'great',\n",
       "  'love',\n",
       "  'the',\n",
       "  'music',\n",
       "  'that',\n",
       "  'plays',\n",
       "  'when',\n",
       "  'reading',\n",
       "  'thacher',\n",
       "  'account',\n",
       "  'of',\n",
       "  'kane',\n",
       "  'childhood',\n",
       "  'and',\n",
       "  'at',\n",
       "  'the',\n",
       "  'end',\n",
       "  'of',\n",
       "  'the',\n",
       "  'film',\n",
       "  'won',\n",
       "  'spoil',\n",
       "  'what',\n",
       "  'it',\n",
       "  'is',\n",
       "  'showing',\n",
       "  'in',\n",
       "  'case',\n",
       "  'you',\n",
       "  'haven',\n",
       "  'seen',\n",
       "  'it',\n",
       "  'citizen',\n",
       "  'kane',\n",
       "  'is',\n",
       "  'as',\n",
       "  'close',\n",
       "  'to',\n",
       "  'perfect',\n",
       "  'as',\n",
       "  'film',\n",
       "  'can',\n",
       "  'get',\n",
       "  'if',\n",
       "  'you',\n",
       "  'haven',\n",
       "  'seen',\n",
       "  'it',\n",
       "  'watch',\n",
       "  'it',\n",
       "  'now']]"
      ]
     },
     "execution_count": 120,
     "metadata": {},
     "output_type": "execute_result"
    }
   ],
   "source": [
    "movieData[:3]"
   ]
  },
  {
   "cell_type": "code",
   "execution_count": 122,
   "metadata": {
    "collapsed": true
   },
   "outputs": [],
   "source": [
    "model_movies = gensim.models.Word2Vec(movieData,size =100, window =2,workers=5,sg=1)"
   ]
  },
  {
   "cell_type": "raw",
   "metadata": {},
   "source": [
    "m1.wv.most_similar(positive='fail',topn=5)"
   ]
  },
  {
   "cell_type": "raw",
   "metadata": {},
   "source": [
    "m2.wv.most_similar('good')"
   ]
  },
  {
   "cell_type": "raw",
   "metadata": {},
   "source": [
    "m1.wv.most_similar('good')"
   ]
  },
  {
   "cell_type": "markdown",
   "metadata": {},
   "source": [
    "### Word2Vec for games reviews"
   ]
  },
  {
   "cell_type": "code",
   "execution_count": 123,
   "metadata": {},
   "outputs": [
    {
     "name": "stdout",
     "output_type": "stream",
     "text": [
      "Summary Data successfully saved in file:\"data/summary_games.txt\"\n"
     ]
    }
   ],
   "source": [
    "build_data('games')"
   ]
  },
  {
   "cell_type": "code",
   "execution_count": 9,
   "metadata": {
    "collapsed": true
   },
   "outputs": [],
   "source": [
    "gamesData = list(read_data('games'))"
   ]
  },
  {
   "cell_type": "code",
   "execution_count": 10,
   "metadata": {},
   "outputs": [
    {
     "data": {
      "text/plain": [
       "1091406"
      ]
     },
     "execution_count": 10,
     "metadata": {},
     "output_type": "execute_result"
    }
   ],
   "source": [
    "len(gamesData)"
   ]
  },
  {
   "cell_type": "code",
   "execution_count": 125,
   "metadata": {
    "collapsed": true
   },
   "outputs": [],
   "source": [
    "model_games = gensim.models.Word2Vec(gamesData,size =300, window =2,workers=5,sg=1)"
   ]
  },
  {
   "cell_type": "markdown",
   "metadata": {},
   "source": [
    "### Word2Vec for music reviews"
   ]
  },
  {
   "cell_type": "code",
   "execution_count": 126,
   "metadata": {},
   "outputs": [
    {
     "name": "stdout",
     "output_type": "stream",
     "text": [
      "Summary Data successfully saved in file:\"data/summary_music.txt\"\n"
     ]
    }
   ],
   "source": [
    "build_data('music')"
   ]
  },
  {
   "cell_type": "code",
   "execution_count": 11,
   "metadata": {
    "collapsed": true
   },
   "outputs": [],
   "source": [
    "musicData = list(read_data('music'))"
   ]
  },
  {
   "cell_type": "code",
   "execution_count": 12,
   "metadata": {},
   "outputs": [
    {
     "data": {
      "text/plain": [
       "155746"
      ]
     },
     "execution_count": 12,
     "metadata": {},
     "output_type": "execute_result"
    }
   ],
   "source": [
    "len(musicData)"
   ]
  },
  {
   "cell_type": "code",
   "execution_count": 128,
   "metadata": {
    "collapsed": true
   },
   "outputs": [],
   "source": [
    "model_music = gensim.models.Word2Vec(musicData,size = 150,window=2,workers=5,sg=1)"
   ]
  },
  {
   "cell_type": "markdown",
   "metadata": {},
   "source": [
    "### Word2Vec for all datasets combined"
   ]
  },
  {
   "cell_type": "code",
   "execution_count": 9,
   "metadata": {
    "collapsed": true
   },
   "outputs": [],
   "source": [
    "data = list(read_data('all'))"
   ]
  },
  {
   "cell_type": "code",
   "execution_count": 10,
   "metadata": {},
   "outputs": [
    {
     "data": {
      "text/plain": [
       "1580578"
      ]
     },
     "execution_count": 10,
     "metadata": {},
     "output_type": "execute_result"
    }
   ],
   "source": [
    "len(data)"
   ]
  },
  {
   "cell_type": "code",
   "execution_count": null,
   "metadata": {
    "collapsed": true
   },
   "outputs": [],
   "source": [
    "# model to create and optimize\n",
    "#model_all = gensim.models.Word2Vec(data)"
   ]
  },
  {
   "cell_type": "markdown",
   "metadata": {},
   "source": [
    "### Train models"
   ]
  },
  {
   "cell_type": "code",
   "execution_count": 129,
   "metadata": {},
   "outputs": [
    {
     "data": {
      "text/plain": [
       "(148515593, 195400030)"
      ]
     },
     "execution_count": 129,
     "metadata": {},
     "output_type": "execute_result"
    }
   ],
   "source": [
    "model_movies.train(movieData,total_examples = len(movieData),epochs=10)"
   ]
  },
  {
   "cell_type": "code",
   "execution_count": 130,
   "metadata": {},
   "outputs": [
    {
     "data": {
      "text/plain": [
       "(352055544, 471441910)"
      ]
     },
     "execution_count": 130,
     "metadata": {},
     "output_type": "execute_result"
    }
   ],
   "source": [
    "model_games.train(gamesData,total_examples=len(gamesData),epochs=10)"
   ]
  },
  {
   "cell_type": "code",
   "execution_count": 131,
   "metadata": {},
   "outputs": [
    {
     "data": {
      "text/plain": [
       "(53660828, 71202630)"
      ]
     },
     "execution_count": 131,
     "metadata": {},
     "output_type": "execute_result"
    }
   ],
   "source": [
    "model_music.train(musicData,total_examples=len(musicData),epochs=10)"
   ]
  },
  {
   "cell_type": "markdown",
   "metadata": {},
   "source": [
    "### Test models"
   ]
  },
  {
   "cell_type": "code",
   "execution_count": 132,
   "metadata": {
    "scrolled": true
   },
   "outputs": [
    {
     "name": "stderr",
     "output_type": "stream",
     "text": [
      "C:\\Users\\Gurpreet\\Anaconda3\\lib\\site-packages\\gensim\\matutils.py:737: FutureWarning: Conversion of the second argument of issubdtype from `int` to `np.signedinteger` is deprecated. In future, it will be treated as `np.int32 == np.dtype(int).type`.\n",
      "  if np.issubdtype(vec.dtype, np.int):\n"
     ]
    },
    {
     "data": {
      "text/plain": [
       "[('great', 0.8382713198661804),\n",
       " ('decent', 0.8184181451797485),\n",
       " ('bad', 0.7779989242553711),\n",
       " ('solid', 0.7406041622161865),\n",
       " ('nice', 0.7196515202522278),\n",
       " ('goood', 0.7007834911346436),\n",
       " ('cool', 0.6978937387466431),\n",
       " ('fantastic', 0.6814126968383789),\n",
       " ('awesome', 0.6744445562362671),\n",
       " ('fine', 0.6724880933761597)]"
      ]
     },
     "execution_count": 132,
     "metadata": {},
     "output_type": "execute_result"
    }
   ],
   "source": [
    "model_movies.wv.most_similar('good')"
   ]
  },
  {
   "cell_type": "code",
   "execution_count": 133,
   "metadata": {},
   "outputs": [
    {
     "name": "stderr",
     "output_type": "stream",
     "text": [
      "C:\\Users\\Gurpreet\\Anaconda3\\lib\\site-packages\\gensim\\matutils.py:737: FutureWarning: Conversion of the second argument of issubdtype from `int` to `np.signedinteger` is deprecated. In future, it will be treated as `np.int32 == np.dtype(int).type`.\n",
      "  if np.issubdtype(vec.dtype, np.int):\n"
     ]
    },
    {
     "data": {
      "text/plain": [
       "[('gory', 0.5058069229125977),\n",
       " ('grusome', 0.47257423400878906),\n",
       " ('damn', 0.4709516167640686),\n",
       " ('freaking', 0.4672619104385376),\n",
       " ('brutal', 0.43675684928894043),\n",
       " ('ckin', 0.43485718965530396),\n",
       " ('violent', 0.42983636260032654),\n",
       " ('gorey', 0.42204925417900085),\n",
       " ('gore', 0.4160231351852417),\n",
       " ('goddamn', 0.41564396023750305)]"
      ]
     },
     "execution_count": 133,
     "metadata": {},
     "output_type": "execute_result"
    }
   ],
   "source": [
    "model_games.wv.most_similar('bloody')"
   ]
  },
  {
   "cell_type": "code",
   "execution_count": 134,
   "metadata": {},
   "outputs": [
    {
     "name": "stderr",
     "output_type": "stream",
     "text": [
      "C:\\Users\\Gurpreet\\Anaconda3\\lib\\site-packages\\gensim\\matutils.py:737: FutureWarning: Conversion of the second argument of issubdtype from `int` to `np.signedinteger` is deprecated. In future, it will be treated as `np.int32 == np.dtype(int).type`.\n",
      "  if np.issubdtype(vec.dtype, np.int):\n"
     ]
    },
    {
     "data": {
      "text/plain": [
       "[('rockin', 0.613544225692749),\n",
       " ('jammy', 0.6084136962890625),\n",
       " ('churning', 0.5859770178794861),\n",
       " ('pumping', 0.5426751375198364),\n",
       " ('crunching', 0.5380844473838806),\n",
       " ('pumpin', 0.5263203382492065),\n",
       " ('rocker', 0.5259642601013184),\n",
       " ('headbanging', 0.5214914083480835),\n",
       " ('swinging', 0.5204938650131226),\n",
       " ('grooving', 0.5151990056037903)]"
      ]
     },
     "execution_count": 134,
     "metadata": {},
     "output_type": "execute_result"
    }
   ],
   "source": [
    "model_music.wv.most_similar('rocking')"
   ]
  },
  {
   "cell_type": "code",
   "execution_count": 135,
   "metadata": {},
   "outputs": [
    {
     "name": "stderr",
     "output_type": "stream",
     "text": [
      "C:\\Users\\Gurpreet\\Anaconda3\\lib\\site-packages\\gensim\\matutils.py:737: FutureWarning: Conversion of the second argument of issubdtype from `int` to `np.signedinteger` is deprecated. In future, it will be treated as `np.int32 == np.dtype(int).type`.\n",
      "  if np.issubdtype(vec.dtype, np.int):\n"
     ]
    },
    {
     "data": {
      "text/plain": [
       "[('relaxing', 0.6438614726066589),\n",
       " ('ethereal', 0.6270212531089783),\n",
       " ('sensuous', 0.6160961389541626),\n",
       " ('ghostly', 0.6077392101287842),\n",
       " ('airy', 0.607119619846344),\n",
       " ('methodical', 0.6056900024414062),\n",
       " ('heartrending', 0.6018016934394836),\n",
       " ('dreamlike', 0.5949757695198059),\n",
       " ('vibey', 0.594833254814148),\n",
       " ('calm', 0.5924388766288757)]"
      ]
     },
     "execution_count": 135,
     "metadata": {},
     "output_type": "execute_result"
    }
   ],
   "source": [
    "model_music.wv.most_similar('peaceful')"
   ]
  },
  {
   "cell_type": "markdown",
   "metadata": {},
   "source": [
    "### save models"
   ]
  },
  {
   "cell_type": "code",
   "execution_count": 140,
   "metadata": {
    "collapsed": true
   },
   "outputs": [],
   "source": [
    "m2.save('data//word2vec_tv.model')"
   ]
  },
  {
   "cell_type": "code",
   "execution_count": 141,
   "metadata": {
    "collapsed": true
   },
   "outputs": [],
   "source": [
    "model_movies.save('data//word2vec_movies.model')"
   ]
  },
  {
   "cell_type": "code",
   "execution_count": 142,
   "metadata": {
    "collapsed": true
   },
   "outputs": [],
   "source": [
    "model_games.save('data//word2vec_games.model')"
   ]
  },
  {
   "cell_type": "code",
   "execution_count": 143,
   "metadata": {
    "collapsed": true
   },
   "outputs": [],
   "source": [
    "model_music.save('data//word2vec_music.model')"
   ]
  },
  {
   "cell_type": "code",
   "execution_count": 101,
   "metadata": {
    "collapsed": true
   },
   "outputs": [],
   "source": [
    "from importlib import reload"
   ]
  },
  {
   "cell_type": "code",
   "execution_count": 94,
   "metadata": {
    "collapsed": true
   },
   "outputs": [],
   "source": [
    "import Word2Vec"
   ]
  },
  {
   "cell_type": "code",
   "execution_count": null,
   "metadata": {
    "collapsed": true
   },
   "outputs": [],
   "source": [
    "def word_keep_rule(word, word_count, min_count):\n",
    "    \"\"\"\n",
    "    This function is used only by gensim's word2vec. A rule to decide whether to keep a word or discard it in gensim.word2vec model.\n",
    "    This rule is used to keep injected users and items in the word2vec vocabulary. We want all of these so that we can recommend things to any user or item.\n",
    "    Gensim's word2vec will call this rule on every vocab word to decide if its kept. \n",
    "    If the word is prefixed by 'u:' or 'm:', we keep it. Otherwise, we choose the default behavior (which is: discard it if word_count < min_count).\n",
    "    For a reference on this default behavior, see\n",
    "    https://github.com/piskvorky/gensim/blob/develop/gensim/models/word2vec.py#L404\n",
    "    \"\"\"\n",
    "    if word[:1] == 'u' or word[:1] == 'i':\n",
    "        return gensim.utils.RULE_KEEP\n",
    "    return gensim.utils.RULE_DEFAULT"
   ]
  },
  {
   "cell_type": "code",
   "execution_count": 102,
   "metadata": {},
   "outputs": [
    {
     "data": {
      "text/plain": [
       "<module 'Word2Vec' from 'C:\\\\Users\\\\Gurpreet\\\\Documents\\\\Coding practices\\\\Python\\\\Independent Study\\\\Word2Vec.py'>"
      ]
     },
     "execution_count": 102,
     "metadata": {},
     "output_type": "execute_result"
    }
   ],
   "source": [
    "reload(Word2Vec)"
   ]
  },
  {
   "cell_type": "code",
   "execution_count": 107,
   "metadata": {},
   "outputs": [
    {
     "name": "stdout",
     "output_type": "stream",
     "text": [
      "[nltk_data] Downloading package stopwords to\n",
      "[nltk_data]     C:\\Users\\Gurpreet\\AppData\\Roaming\\nltk_data...\n",
      "[nltk_data]   Unzipping corpora\\stopwords.zip.\n"
     ]
    },
    {
     "data": {
      "text/plain": [
       "True"
      ]
     },
     "execution_count": 107,
     "metadata": {},
     "output_type": "execute_result"
    }
   ],
   "source": [
    "nltk.download('stopwords')"
   ]
  },
  {
   "cell_type": "code",
   "execution_count": 108,
   "metadata": {
    "collapsed": true
   },
   "outputs": [],
   "source": [
    "data = Word2Vec.ready_data('movies_injected')"
   ]
  },
  {
   "cell_type": "code",
   "execution_count": 109,
   "metadata": {},
   "outputs": [
    {
     "data": {
      "text/plain": [
       "[['ilmi_',\n",
       "  'citizen',\n",
       "  'kane',\n",
       "  'ilmi_',\n",
       "  'citizen',\n",
       "  'kane',\n",
       "  'yang',\n",
       "  'kasih',\n",
       "  'rate',\n",
       "  'berarti',\n",
       "  'sengaja',\n",
       "  'menjatuhkan',\n",
       "  'karya',\n",
       "  'orang',\n",
       "  'lain',\n",
       "  'lu',\n",
       "  'ilmi_',\n",
       "  'citizen',\n",
       "  'kane',\n",
       "  'pikir',\n",
       "  'bikin',\n",
       "  'ilmi_',\n",
       "  'citizen',\n",
       "  'kane',\n",
       "  'film',\n",
       "  'itu',\n",
       "  'mudah',\n",
       "  'lu',\n",
       "  'pikir',\n",
       "  'penilaian',\n",
       "  'sebuah',\n",
       "  'film',\n",
       "  'ilmi_',\n",
       "  'citizen',\n",
       "  'kane',\n",
       "  'bagus',\n",
       "  'atau',\n",
       "  'tidak',\n",
       "  'cuma',\n",
       "  'ilmi_',\n",
       "  'citizen',\n",
       "  'kane',\n",
       "  'dinilai',\n",
       "  'dari',\n",
       "  'plot',\n",
       "  'nya',\n",
       "  'ceritanya',\n",
       "  'saja',\n",
       "  'ilmi_',\n",
       "  'citizen',\n",
       "  'kane',\n",
       "  'misalnya',\n",
       "  'kalo',\n",
       "  'mau',\n",
       "  'kontribusi',\n",
       "  'kasih',\n",
       "  'ilmi_',\n",
       "  'citizen',\n",
       "  'kane',\n",
       "  'rate',\n",
       "  'yang',\n",
       "  'objektif',\n",
       "  'lah',\n",
       "  'pertimbangkan',\n",
       "  'ilmi_',\n",
       "  'citizen',\n",
       "  'kane',\n",
       "  'aspek',\n",
       "  'lain',\n",
       "  'dalam',\n",
       "  'film',\n",
       "  'tersebut',\n",
       "  'unsur',\n",
       "  'intrinsik',\n",
       "  'film',\n",
       "  'ilmi_',\n",
       "  'citizen',\n",
       "  'kane',\n",
       "  'saya',\n",
       "  'pribadi',\n",
       "  'sangat',\n",
       "  'ilmi_',\n",
       "  'citizen',\n",
       "  'kane',\n",
       "  'tidak',\n",
       "  'suka',\n",
       "  'dengan',\n",
       "  'orang',\n",
       "  'yang',\n",
       "  'tidak',\n",
       "  'menghargai',\n",
       "  'karya',\n",
       "  'orang',\n",
       "  'lain',\n",
       "  'ilmi_',\n",
       "  'citizen',\n",
       "  'kane',\n",
       "  'dengan',\n",
       "  'ilmi_',\n",
       "  'citizen',\n",
       "  'kane',\n",
       "  'melakukan',\n",
       "  'penilaian',\n",
       "  'hanya',\n",
       "  'dari',\n",
       "  'aspek',\n",
       "  'tertentu',\n",
       "  'tidak',\n",
       "  'menilainya',\n",
       "  'secara',\n",
       "  'keseluruhan',\n",
       "  'semua',\n",
       "  'aspek',\n",
       "  'ilmi_',\n",
       "  'ilmi_',\n",
       "  'citizen',\n",
       "  'kane',\n",
       "  'citizen',\n",
       "  'kane',\n",
       "  'yg',\n",
       "  'ada',\n",
       "  'dinilai',\n",
       "  'serta',\n",
       "  'memberikan',\n",
       "  'penilaian',\n",
       "  'secara',\n",
       "  'obyektif',\n",
       "  'bukannya',\n",
       "  'berdasarkan',\n",
       "  'emosi',\n",
       "  'perasaan',\n",
       "  'sendiri',\n",
       "  'ilmi_',\n",
       "  'citizen',\n",
       "  'kane',\n",
       "  'semata',\n",
       "  'ilmi_',\n",
       "  'citizen',\n",
       "  'kane',\n",
       "  'alias',\n",
       "  'subyektif'],\n",
       " ['gamerguycasual',\n",
       "  'citizen',\n",
       "  'kane',\n",
       "  'gamerguycasual',\n",
       "  'citizen',\n",
       "  'kane',\n",
       "  'movie',\n",
       "  'incredibly',\n",
       "  'boring',\n",
       "  'bring',\n",
       "  'gamerguycasual',\n",
       "  'citizen',\n",
       "  'kane',\n",
       "  'table',\n",
       "  'gamerguycasual',\n",
       "  'citizen',\n",
       "  'kane',\n",
       "  'many',\n",
       "  'modern',\n",
       "  'filming',\n",
       "  'techniques',\n",
       "  'nothing',\n",
       "  'go',\n",
       "  'gamerguycasual',\n",
       "  'citizen',\n",
       "  'kane'],\n",
       " ['vladthepoker',\n",
       "  'citizen',\n",
       "  'kane',\n",
       "  'vladthepoker',\n",
       "  'citizen',\n",
       "  'kane',\n",
       "  'personal',\n",
       "  'favorite',\n",
       "  'movie',\n",
       "  'time',\n",
       "  'orson',\n",
       "  'welles',\n",
       "  'citizen',\n",
       "  'kane',\n",
       "  'vladthepoker',\n",
       "  'citizen',\n",
       "  'kane',\n",
       "  'vladthepoker',\n",
       "  'citizen',\n",
       "  'kane',\n",
       "  'masterpiece',\n",
       "  'cinema',\n",
       "  'acclaimed',\n",
       "  'element',\n",
       "  'vladthepoker',\n",
       "  'citizen',\n",
       "  'kane',\n",
       "  'film',\n",
       "  'camera',\n",
       "  'work',\n",
       "  'vladthepoker',\n",
       "  'citizen',\n",
       "  'kane',\n",
       "  'still',\n",
       "  'day',\n",
       "  'impressive',\n",
       "  'vladthepoker',\n",
       "  'citizen',\n",
       "  'kane',\n",
       "  'vladthepoker',\n",
       "  'citizen',\n",
       "  'kane',\n",
       "  'flashy',\n",
       "  'helps',\n",
       "  'vladthepoker',\n",
       "  'citizen',\n",
       "  'kane',\n",
       "  'tell',\n",
       "  'story',\n",
       "  'shot',\n",
       "  'kane',\n",
       "  'walking',\n",
       "  'vladthepoker',\n",
       "  'citizen',\n",
       "  'kane',\n",
       "  'mirrors',\n",
       "  'vladthepoker',\n",
       "  'citizen',\n",
       "  'kane',\n",
       "  'might',\n",
       "  'depressing',\n",
       "  'shot',\n",
       "  'history',\n",
       "  'cinematography',\n",
       "  'vladthepoker',\n",
       "  'citizen',\n",
       "  'kane',\n",
       "  'vladthepoker',\n",
       "  'citizen',\n",
       "  'kane',\n",
       "  'innovative',\n",
       "  'part',\n",
       "  'film',\n",
       "  'movie',\n",
       "  'opens',\n",
       "  'vladthepoker',\n",
       "  'vladthepoker',\n",
       "  'citizen',\n",
       "  'kane',\n",
       "  'citizen',\n",
       "  'kane',\n",
       "  'protagonist',\n",
       "  'dying',\n",
       "  'life',\n",
       "  'told',\n",
       "  'flashbacks',\n",
       "  'revolutionary',\n",
       "  'vladthepoker',\n",
       "  'citizen',\n",
       "  'kane',\n",
       "  'idea',\n",
       "  'vladthepoker',\n",
       "  'citizen',\n",
       "  'kane',\n",
       "  'narrative',\n",
       "  'structure',\n",
       "  'cinematography',\n",
       "  'usually',\n",
       "  'vladthepoker',\n",
       "  'citizen',\n",
       "  'kane',\n",
       "  'talked',\n",
       "  'vladthepoker',\n",
       "  'citizen',\n",
       "  'kane',\n",
       "  'reviews',\n",
       "  'citizen',\n",
       "  'kane',\n",
       "  'vladthepoker',\n",
       "  'citizen',\n",
       "  'kane',\n",
       "  'amazing',\n",
       "  'aspects',\n",
       "  'vladthepoker',\n",
       "  'citizen',\n",
       "  'kane',\n",
       "  'film',\n",
       "  'vladthepoker',\n",
       "  'citizen',\n",
       "  'kane',\n",
       "  'good',\n",
       "  'performances',\n",
       "  'mercury',\n",
       "  'actors',\n",
       "  'vladthepoker',\n",
       "  'citizen',\n",
       "  'kane',\n",
       "  'phenomenal',\n",
       "  'keep',\n",
       "  'vladthepoker',\n",
       "  'citizen',\n",
       "  'kane',\n",
       "  'mind',\n",
       "  'age',\n",
       "  'fifty',\n",
       "  'years',\n",
       "  'vladthepoker',\n",
       "  'citizen',\n",
       "  'kane',\n",
       "  'vladthepoker',\n",
       "  'citizen',\n",
       "  'kane',\n",
       "  'roles',\n",
       "  'script',\n",
       "  'thing',\n",
       "  'oscar',\n",
       "  'vladthepoker',\n",
       "  'citizen',\n",
       "  'kane',\n",
       "  'vladthepoker',\n",
       "  'citizen',\n",
       "  'kane',\n",
       "  'also',\n",
       "  'fantastic',\n",
       "  'bernstein',\n",
       "  'monologue',\n",
       "  'one',\n",
       "  'stand',\n",
       "  'moments',\n",
       "  'bernard',\n",
       "  'vladthepoker',\n",
       "  'citizen',\n",
       "  'kane',\n",
       "  'vladthepoker',\n",
       "  'citizen',\n",
       "  'kane',\n",
       "  'herman',\n",
       "  'score',\n",
       "  'also',\n",
       "  'great',\n",
       "  'love',\n",
       "  'music',\n",
       "  'plays',\n",
       "  'vladthepoker',\n",
       "  'citizen',\n",
       "  'kane',\n",
       "  'reading',\n",
       "  'vladthepoker',\n",
       "  'citizen',\n",
       "  'kane',\n",
       "  'thacher',\n",
       "  'account',\n",
       "  'kane',\n",
       "  'childhood',\n",
       "  'end',\n",
       "  'vladthepoker',\n",
       "  'citizen',\n",
       "  'kane',\n",
       "  'film',\n",
       "  'vladthepoker',\n",
       "  'citizen',\n",
       "  'kane',\n",
       "  'spoil',\n",
       "  'showing',\n",
       "  'vladthepoker',\n",
       "  'citizen',\n",
       "  'kane',\n",
       "  'case',\n",
       "  'seen',\n",
       "  'citizen',\n",
       "  'vladthepoker',\n",
       "  'citizen',\n",
       "  'kane',\n",
       "  'kane',\n",
       "  'close',\n",
       "  'vladthepoker',\n",
       "  'citizen',\n",
       "  'kane',\n",
       "  'perfect',\n",
       "  'film',\n",
       "  'get',\n",
       "  'vladthepoker',\n",
       "  'citizen',\n",
       "  'kane',\n",
       "  'seen',\n",
       "  'vladthepoker',\n",
       "  'citizen',\n",
       "  'kane',\n",
       "  'watch']]"
      ]
     },
     "execution_count": 109,
     "metadata": {},
     "output_type": "execute_result"
    }
   ],
   "source": [
    "data[:3]"
   ]
  },
  {
   "cell_type": "code",
   "execution_count": 110,
   "metadata": {},
   "outputs": [
    {
     "data": {
      "text/plain": [
       "(65454741, 69173480)"
      ]
     },
     "execution_count": 110,
     "metadata": {},
     "output_type": "execute_result"
    }
   ],
   "source": [
    "#create model\n",
    "model = gensim.models.Word2Vec(sentences=data,size = 300,alpha=0.05,window=4,min_count=5,workers=5,sg=1,hs=0,negative=10)\n",
    "\n",
    "#train model\n",
    "model.train(data,total_examples=len(data),epochs=5)"
   ]
  },
  {
   "cell_type": "code",
   "execution_count": null,
   "metadata": {
    "collapsed": true
   },
   "outputs": [],
   "source": [
    "#Test Model\n",
    "model.wv.most_similar('citizen')"
   ]
  },
  {
   "cell_type": "code",
   "execution_count": 111,
   "metadata": {},
   "outputs": [
    {
     "name": "stderr",
     "output_type": "stream",
     "text": [
      "C:\\Users\\Gurpreet\\Anaconda3\\lib\\site-packages\\gensim\\matutils.py:737: FutureWarning: Conversion of the second argument of issubdtype from `int` to `np.signedinteger` is deprecated. In future, it will be treated as `np.int32 == np.dtype(int).type`.\n",
      "  if np.issubdtype(vec.dtype, np.int):\n"
     ]
    },
    {
     "data": {
      "text/plain": [
       "[('batman', 0.8830540180206299),\n",
       " ('justice', 0.8458367586135864),\n",
       " ('dawn', 0.7178886532783508),\n",
       " ('luthor', 0.6165639758110046),\n",
       " ('lex', 0.6093013286590576),\n",
       " ('bvs', 0.5565556883811951),\n",
       " ('steel', 0.5216608047485352),\n",
       " ('chestercheeto', 0.5147061347961426),\n",
       " ('batfleck', 0.5068020820617676),\n",
       " ('ifoundmycookie', 0.5067472457885742)]"
      ]
     },
     "execution_count": 111,
     "metadata": {},
     "output_type": "execute_result"
    }
   ],
   "source": [
    "model.wv.most_similar('superman')"
   ]
  },
  {
   "cell_type": "code",
   "execution_count": null,
   "metadata": {
    "collapsed": true
   },
   "outputs": [],
   "source": []
  }
 ],
 "metadata": {
  "kernelspec": {
   "display_name": "Python 3",
   "language": "python",
   "name": "python3"
  },
  "language_info": {
   "codemirror_mode": {
    "name": "ipython",
    "version": 3
   },
   "file_extension": ".py",
   "mimetype": "text/x-python",
   "name": "python",
   "nbconvert_exporter": "python",
   "pygments_lexer": "ipython3",
   "version": "3.6.2"
  }
 },
 "nbformat": 4,
 "nbformat_minor": 2
}
